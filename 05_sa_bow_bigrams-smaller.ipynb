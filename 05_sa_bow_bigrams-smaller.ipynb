{
 "cells": [
  {
   "cell_type": "markdown",
   "id": "912f18f2-375b-417b-9535-34f8b4941e39",
   "metadata": {},
   "source": [
    "# Neural Network for Sentiment Analysis"
   ]
  },
  {
   "cell_type": "markdown",
   "id": "6c337b94-8d63-40e7-b4ed-fe295c8daef1",
   "metadata": {},
   "source": [
    "## Experimenting with bi-grams BoW"
   ]
  },
  {
   "cell_type": "code",
   "execution_count": 1,
   "id": "e4d52e6a-f579-4f38-b1f3-deb56f63abc2",
   "metadata": {},
   "outputs": [],
   "source": [
    "import numpy as np \n",
    "import pandas as pd\n",
    "from bs4 import BeautifulSoup\n",
    "import string\n",
    "import re\n",
    "import nltk\n",
    "from nltk.corpus import wordnet\n",
    "from nltk.stem import WordNetLemmatizer\n",
    "from nltk.corpus import stopwords\n",
    "from sklearn.feature_extraction.text import CountVectorizer\n",
    "from sklearn.model_selection import train_test_split\n",
    "import time\n",
    "import datetime\n",
    "from sklearn.metrics import classification_report, confusion_matrix, ConfusionMatrixDisplay\n",
    "\n",
    "# scipy.special for the sigmoid function expit()\n",
    "import scipy.special\n",
    "# library for plotting arrays\n",
    "import matplotlib.pyplot\n",
    "# ensure the plots are inside this notebook, not an external window\n",
    "%matplotlib inline"
   ]
  },
  {
   "cell_type": "markdown",
   "id": "9b83938b-48ad-451b-9a2b-4738d7ecc469",
   "metadata": {},
   "source": [
    "## Extracting Data as BoW, bigrams"
   ]
  },
  {
   "cell_type": "code",
   "execution_count": 2,
   "id": "3d9688d8-55af-4603-b1db-06442eb930e1",
   "metadata": {},
   "outputs": [],
   "source": [
    "def get_wordnet_pos(tag):\n",
    "    \"\"\"Take a POS tag and return the corresponding WordNet POS tag.\n",
    "\n",
    "    Parameter:\n",
    "    -tag: a POS tag.\n",
    "    \"\"\"\n",
    "    \n",
    "    if tag.startswith('N'):\n",
    "        return wordnet.NOUN\n",
    "    elif tag.startswith('V'):\n",
    "        return wordnet.VERB\n",
    "    elif tag.startswith('R'):\n",
    "        return wordnet.ADV\n",
    "    elif tag.startswith('J'):\n",
    "        return wordnet.ADJ\n",
    "    else:\n",
    "        return wordnet.NOUN  # Default to noun if the POS is not recognized"
   ]
  },
  {
   "cell_type": "code",
   "execution_count": 3,
   "id": "bb418e9b-73d9-4adf-bbe5-838059f0ac20",
   "metadata": {},
   "outputs": [],
   "source": [
    "def preprocess_text(text,remove_digits=True):\n",
    "    \"\"\"Read a csv file and clean the text by removing html string using the BeautifulSoup library.\n",
    "    Apply tokenization and lemmatization.\n",
    "    Return the df with the preprocessed text in the respective column.\n",
    "    \n",
    "    Parameters:\n",
    "    -reviews_file: path to a csv file containing the final reviews, provided as a Python string.\n",
    "    -text_column: name of the column in the csv file where the reviews are stored, provided as a Python string.\n",
    "    \"\"\"\n",
    "    \n",
    "    #removing HTML tags using BeautifulSoup\n",
    "    soup = BeautifulSoup(text, 'html.parser')\n",
    "    text = soup.get_text()\n",
    "\n",
    "    #removing square brackets\n",
    "    text = re.sub('\\[[^]]*\\]', '', text)\n",
    "    \n",
    "    #removing special characters\n",
    "    if remove_digits:\n",
    "        text = re.sub('[^a-zA-Z\\s]', '', text)\n",
    "    else:\n",
    "        text = re.sub('[^a-zA-Z0-9\\s]', '', text)\n",
    "    \n",
    "    #lowercasing the text\n",
    "    text = text.lower()\n",
    "\n",
    "    #tokenization with NLTK\n",
    "    tokens = nltk.word_tokenize(text)\n",
    "\n",
    "    #removing stop words\n",
    "    stop_words = set(stopwords.words('english'))\n",
    "    tokens = [word for word in tokens if word not in stop_words]\n",
    "\n",
    "    #lemmatization with POS tagging\n",
    "    lemmatizer = WordNetLemmatizer()\n",
    "    pos_tags = nltk.pos_tag(tokens) #applying the NLTK POS tags to tokens\n",
    "    lemmatized_tokens = [lemmatizer.lemmatize(token, pos=get_wordnet_pos(pos_tag)) for token, pos_tag in pos_tags] #lemmatizing each token based on its POS\n",
    "    lemmatized_text = ' '.join(lemmatized_tokens)  #joining lemmatized tokens back into a single string\n",
    "\n",
    "    return lemmatized_text\n",
    "\n",
    "###part of the code as seen on https://www.kaggle.com/code/aashidutt3/sentiment-analysis-sephora-reviews/notebook on Jan 23rd"
   ]
  },
  {
   "cell_type": "code",
   "execution_count": 4,
   "id": "8c126670-0187-4834-96b2-bddc6dcbe136",
   "metadata": {},
   "outputs": [],
   "source": [
    "def create_count_vectorizer(reviews_file, text_column,min_df=300):\n",
    "    \"\"\"Read a csv file and clean the text by removing html string.\n",
    "    Preprocess the text, applies CountVectorizer with words occuring at least the amount of times specified.\n",
    "    Return the transformed matrix and the fitted CountVectorizer object.\n",
    "    \n",
    "    Parameters:\n",
    "    -reviews_file: path to a csv file containing the final reviews, provided as a Python string.\n",
    "    -text_column: name of the column in the csv file where the reviews are stored, provided as a Python string.\n",
    "    - min_df: minimum frequency of words accross documents for CountVectorizer, default is 300.\n",
    "    \"\"\"\n",
    "\n",
    "    #reading the csv file into a DataFrame with pandas\n",
    "    df = pd.read_csv(reviews_file)\n",
    "    \n",
    "    # applying the preprocessing function to the text column\n",
    "    df[text_column] = df[text_column].apply(preprocess_text)\n",
    "\n",
    "    vectorizer = CountVectorizer(min_df=min_df, #if a token appears fewer times than this, across all documents, it will be ignored\n",
    "                                tokenizer=nltk.word_tokenize, # using the nltk tokenizer\n",
    "                                ngram_range=(2,2))\n",
    "                                \n",
    "    \n",
    "    # Fit and transform the cleaned text data\n",
    "    bow_matrix = vectorizer.fit_transform(df[text_column])\n",
    "\n",
    "    return bow_matrix, vectorizer"
   ]
  },
  {
   "cell_type": "code",
   "execution_count": 5,
   "id": "9d01952c-88d0-44fd-ade1-5d18fc096642",
   "metadata": {},
   "outputs": [
    {
     "name": "stderr",
     "output_type": "stream",
     "text": [
      "C:\\Users\\User\\AppData\\Local\\Temp\\ipykernel_9948\\1671045480.py:12: MarkupResemblesLocatorWarning: The input looks more like a filename than markup. You may want to open this file and pass the filehandle into Beautiful Soup.\n",
      "  soup = BeautifulSoup(text, 'html.parser')\n",
      "C:\\Users\\User\\AppData\\Local\\Temp\\ipykernel_9948\\1671045480.py:12: MarkupResemblesLocatorWarning: The input looks more like a URL than markup. You may want to use an HTTP client like requests to get the document behind the URL, and feed that document to Beautiful Soup.\n",
      "  soup = BeautifulSoup(text, 'html.parser')\n",
      "C:\\Users\\User\\anaconda3\\Lib\\site-packages\\sklearn\\feature_extraction\\text.py:525: UserWarning: The parameter 'token_pattern' will not be used since 'tokenizer' is not None'\n",
      "  warnings.warn(\n"
     ]
    }
   ],
   "source": [
    "output_file_path = './sephora-data/sa-reviews_smaller.csv'\n",
    "text_column = 'text'\n",
    "review_counts, review_vec = create_count_vectorizer(output_file_path, text_column)"
   ]
  },
  {
   "cell_type": "code",
   "execution_count": 6,
   "id": "aba18674-233a-4b3f-8fea-39928663c16a",
   "metadata": {},
   "outputs": [
    {
     "name": "stdout",
     "output_type": "stream",
     "text": [
      "Total number of words in the vector representing dimensions in the model: 277\n"
     ]
    }
   ],
   "source": [
    "#Total number of word features or the length of the total vector\n",
    "print('Total number of words in the vector representing dimensions in the model:', len(review_vec.vocabulary_))"
   ]
  },
  {
   "cell_type": "code",
   "execution_count": 7,
   "id": "77e1d740-97d1-44ab-a0c3-bf536aac8dbc",
   "metadata": {},
   "outputs": [
    {
     "name": "stdout",
     "output_type": "stream",
     "text": [
      "['absolutely love', 'absorb skin', 'acne prone', 'acne scar', 'around eye', 'buy full', 'care routine', 'change skin', 'cleanse balm', 'clear skin', 'clog pore', 'combination skin', 'combo skin', 'complimentary influenster', 'continue use', 'dark circle', 'dark spot', 'day use', 'dead skin', 'definitely recommend', 'didnt anything', 'didnt feel', 'didnt like', 'didnt notice', 'didnt really', 'didnt see', 'didnt work', 'difference skin', 'doesnt feel', 'doesnt leave', 'doesnt make', 'doesnt work', 'dont feel', 'dont get', 'dont know', 'dont like', 'dont see', 'dont think', 'double cleanse', 'drunk elephant', 'dry lip', 'dry patch', 'dry sensitive', 'dry skin', 'easy use', 'even though', 'ever use', 'every day', 'every night', 'every time']\n"
     ]
    }
   ],
   "source": [
    "# First 50 feature names\n",
    "print(list(review_vec.get_feature_names_out())[:50])"
   ]
  },
  {
   "cell_type": "code",
   "execution_count": 8,
   "id": "f93a830f-8520-4d34-8ac0-b72af7fd2b9b",
   "metadata": {},
   "outputs": [
    {
     "data": {
      "text/plain": [
       "(49905, 277)"
      ]
     },
     "execution_count": 8,
     "metadata": {},
     "output_type": "execute_result"
    }
   ],
   "source": [
    "#review_counts represents the data according to the model of review_vec\n",
    "#inspecting the dimensions as a feature array by getting the shape: the rows (reviews) and columns (the word vector length).\n",
    "review_counts.shape"
   ]
  },
  {
   "cell_type": "code",
   "execution_count": 9,
   "id": "5cb49ddb-0e27-4ae4-bb11-47b84c1ccfa6",
   "metadata": {},
   "outputs": [
    {
     "name": "stdout",
     "output_type": "stream",
     "text": [
      "[0 0 0 0 1 0 0 0 0 0 0 0 0 0 0 0 0 0 0 0 0 0 0 0 0 0 0 0 0 0 0 0 0 0 0 0 0\n",
      " 0 0 0 0 0 0 1 0 0 0 0 0 0 0 0 0 0 0 0 0 0 0 0 0 0 0 0 0 0 0 0 0 0 0 0 0 0\n",
      " 0 0 0 0 0 0 0 0 0 0 0 0 0 0 0 0 0 0 0 0 0 0 0 0 0 0]\n"
     ]
    }
   ],
   "source": [
    "#converting the matrix to an array and getting the 500th element to look at the vector values for slots [:100] out of the total dimensions:\n",
    "datarow = 500\n",
    "print(review_counts.toarray()[datarow][:100])"
   ]
  },
  {
   "cell_type": "code",
   "execution_count": 10,
   "id": "c663d8e9-6075-4cfc-9761-1952a3340e11",
   "metadata": {},
   "outputs": [
    {
     "name": "stdout",
     "output_type": "stream",
     "text": [
      "Maximum count: 13\n"
     ]
    }
   ],
   "source": [
    "# Find the maximum count in the entire matrix\n",
    "max_count = review_counts.max()\n",
    "\n",
    "print(\"Maximum count:\", max_count)"
   ]
  },
  {
   "cell_type": "markdown",
   "id": "76b8004b-60ec-4cd7-850e-645987feea97",
   "metadata": {},
   "source": [
    "## Splitting Data into Train and Test"
   ]
  },
  {
   "cell_type": "code",
   "execution_count": 11,
   "id": "59e58346-5044-4588-b172-9860c37c22ad",
   "metadata": {},
   "outputs": [],
   "source": [
    "def split_data(data, labels, test_size=0.15, dev_size=0.15, random_state=None):\n",
    "    \"\"\"\n",
    "    Split data into training, development, and test sets.\n",
    "\n",
    "    Parameters:\n",
    "    - data: features, e.g., count vectorizer model derived from all the data.\n",
    "    - labels: the labels for all the data\n",
    "    - test_size: size of the test set for the first split, resulting in the test set. Default is set to 0.15.\n",
    "    - dev_size: size of the test set for the second split, resulting in the development set. Default is set to 0.15.\n",
    "    - random_state: seed for reproducibility. Default is None.\n",
    "\n",
    "    Returns:\n",
    "    - tuple of (data_train, data_dev, data_test, labels_train, labels_dev, labels_test)\n",
    "    \"\"\"\n",
    "    # first split: data into training and test sets\n",
    "    data_tr, data_test, labels_tr, labels_test = train_test_split(data, labels, test_size=test_size, random_state=random_state)\n",
    "\n",
    "    # second split: training data into training and dev sets\n",
    "    data_train, data_dev, labels_train, labels_dev = train_test_split(data_tr, labels_tr, test_size=dev_size, random_state=random_state)\n",
    "\n",
    "    return data_train, data_dev, data_test, labels_train, labels_dev, labels_test"
   ]
  },
  {
   "cell_type": "code",
   "execution_count": 12,
   "id": "87877056-3f37-4f5b-8a1a-130ba4ec52b5",
   "metadata": {},
   "outputs": [],
   "source": [
    "df = pd.read_csv(output_file_path)\n",
    "\n",
    "reviews_train, reviews_dev, reviews_test, gold_labels_train, gold_labels_dev, gold_labels_test = split_data(review_counts,\n",
    "                                                                                                            df['label'],\n",
    "                                                                                                            random_state=42)\n"
   ]
  },
  {
   "cell_type": "code",
   "execution_count": 13,
   "id": "f2f5e52b-5ac6-4cd7-b8e6-94e83d561456",
   "metadata": {},
   "outputs": [
    {
     "name": "stdout",
     "output_type": "stream",
     "text": [
      "Training texts: 36056\n",
      "Training labels: 36056\n",
      "Test texts: 7486\n",
      "Test labels: 7486\n",
      "Development texts: 6363\n",
      "Development labels: 6363\n"
     ]
    }
   ],
   "source": [
    "print(\"Training texts:\", len(reviews_train.toarray()))\n",
    "print(\"Training labels:\", len(gold_labels_train))\n",
    "print(\"Test texts:\", len(reviews_test.toarray()))\n",
    "print(\"Test labels:\", len(gold_labels_test))\n",
    "print(\"Development texts:\", len(reviews_dev.toarray()))\n",
    "print(\"Development labels:\", len(gold_labels_dev))"
   ]
  },
  {
   "cell_type": "code",
   "execution_count": 14,
   "id": "ffdb89ad-733a-424a-8151-7e6fc370a449",
   "metadata": {},
   "outputs": [
    {
     "data": {
      "text/plain": [
       "array([0, 0, 0, 0, 0, 0, 0, 0, 0, 0, 0, 0, 0, 0, 0, 0, 0, 0, 0, 0, 0, 0,\n",
       "       0, 0, 0, 0, 0, 0, 0, 0, 0, 0, 0, 0, 0, 0, 0, 0, 0, 0, 0, 0, 0, 0,\n",
       "       0, 0, 0, 0, 0, 0, 0, 0, 0, 0, 0, 0, 0, 0, 0, 0, 0, 0, 0, 0, 0, 0,\n",
       "       0, 0, 0, 0, 0, 0, 0, 0, 0, 0, 0, 0, 0, 0, 0, 0, 0, 0, 0, 0, 0, 0,\n",
       "       0, 0], dtype=int64)"
      ]
     },
     "execution_count": 14,
     "metadata": {},
     "output_type": "execute_result"
    }
   ],
   "source": [
    "#one training instance looks like this:\n",
    "reviews_train[100].toarray()[0][10:100]"
   ]
  },
  {
   "cell_type": "code",
   "execution_count": 15,
   "id": "0a1c4d87-8624-416b-a21c-89a850b69482",
   "metadata": {},
   "outputs": [
    {
     "data": {
      "text/plain": [
       "1.0"
      ]
     },
     "execution_count": 15,
     "metadata": {},
     "output_type": "execute_result"
    }
   ],
   "source": [
    "#and it's label is:\n",
    "gold_labels_train[100]\n",
    "\n",
    "### this piece of code sometimes throws an error but other times it doesn't. weird"
   ]
  },
  {
   "cell_type": "markdown",
   "id": "7d4d4c55-d4af-456f-a64b-b58c81503464",
   "metadata": {},
   "source": [
    "## Building the Neural Network"
   ]
  },
  {
   "cell_type": "code",
   "execution_count": 16,
   "id": "89d565c7-0bd8-4457-94f6-2444ea2be2de",
   "metadata": {},
   "outputs": [],
   "source": [
    "# neural network class definition\n",
    "class neuralNetwork:\n",
    "    \n",
    "    # initialise the neural network\n",
    "    def __init__(self, inputnodes, hiddennodes, outputnodes, learningrate):\n",
    "        #set the number of nodes in each input, hidden, output layer\n",
    "        self.inodes = inputnodes\n",
    "        self.hnodes = hiddennodes\n",
    "        self.onodes = outputnodes\n",
    "\n",
    "        # link weight matrices, wih and who\n",
    "        # weights inside the arrays are w_i_j, where link is from node i to nodej in the next layer\n",
    "        # w11 w21\n",
    "        # w12 w22 etc\n",
    "        #self.wih = (numpy.random.rand(self.hnodes, self.inodes) - 0.5) ##random initialization\n",
    "        #self.who = (numpy.random.rand(self.onodes, self.hnodes) - 0.5)\n",
    "        self.wih = np.random.normal(0.0, pow(self.hnodes, -0.5),(self.hnodes, self.inodes))\n",
    "        self.who = np.random.normal(0.0, pow(self.onodes, -0.5),(self.onodes, self.hnodes))\n",
    "        \n",
    "        #learning rate\n",
    "        self.lr = learningrate\n",
    "        \n",
    "        # activation function is the sigmoid function\n",
    "        self.activation_function = lambda x: scipy.special.expit(x)\n",
    "\n",
    "        pass\n",
    "        \n",
    "    # train the neural network\n",
    "    def train(self, inputs_list, targets_list):\n",
    "        # convert inputs list to 2d array\n",
    "        inputs = np.array(inputs_list, ndmin=2).T\n",
    "        targets = np.array(targets_list, ndmin=2).T\n",
    "\n",
    "        #calculate signals into hidden layer\n",
    "        hidden_inputs = np.dot(self.wih, inputs)\n",
    "        # calculate the signals emerging from hidden layer\n",
    "        hidden_outputs = self.activation_function(hidden_inputs)\n",
    "\n",
    "        # calculate signals into final output layer\n",
    "        final_inputs = np.dot(self.who, hidden_outputs)\n",
    "        # calculate the signals emerging from final output layer\n",
    "        final_outputs = self.activation_function(final_inputs)\n",
    "\n",
    "        # output layer error is the (target - actual)\n",
    "        output_errors = targets - final_outputs\n",
    "        # hidden layer error is the output_errors, split by weights, recombined at hidden nodes\n",
    "        hidden_errors = np.dot(self.who.T, output_errors)\n",
    "\n",
    "        # update the weights for the links between the hidden and output layers\n",
    "        self.who += self.lr * np.dot((output_errors * final_outputs * (1.0 - final_outputs)), np.transpose(hidden_outputs))\n",
    "\n",
    "        # update the weights for the links between the input and hidden layers\n",
    "        self.wih += self.lr * np.dot((hidden_errors * hidden_outputs * (1.0 - hidden_outputs)), np.transpose(inputs))\n",
    "        \n",
    "        pass\n",
    "        \n",
    "    # query the neural network\n",
    "    def query(self, inputs_list):\n",
    "        # convert inputs list to 2d array\n",
    "        inputs = np.array(inputs_list, ndmin=2).T                                \n",
    "        \n",
    "        # calculate signals into hidden layer\n",
    "        hidden_inputs = np.dot(self.wih, inputs)\n",
    "        # calculate the signals emerging from hidden layer\n",
    "        hidden_outputs = self.activation_function(hidden_inputs)\n",
    "\n",
    "        # calculate signals into final output layer\n",
    "        final_inputs = np.dot(self.who, hidden_outputs)\n",
    "        # calculate the signals emerging from final output layer\n",
    "        final_outputs = self.activation_function(final_inputs)\n",
    "        \n",
    "        return final_outputs\n"
   ]
  },
  {
   "cell_type": "code",
   "execution_count": 17,
   "id": "8813383e-a484-415b-a6a3-3179f7a5b969",
   "metadata": {},
   "outputs": [],
   "source": [
    "# number of input, hidden and output nodes\n",
    "input_nodes = len(review_vec.vocabulary_) #this is the size of the features - the length of the BoW, the unique items in the vocabulary list above\n",
    "hidden_nodes = 400\n",
    "output_nodes = 60\n",
    "\n",
    "# learning rate\n",
    "learning_rate = 0.15\n",
    "\n",
    "# create instance of neural network\n",
    "n = neuralNetwork(input_nodes,hidden_nodes,output_nodes, learning_rate)"
   ]
  },
  {
   "cell_type": "markdown",
   "id": "570bc692-ffa5-4c78-96db-08d574d6c3b0",
   "metadata": {},
   "source": [
    "## Training the NN"
   ]
  },
  {
   "cell_type": "code",
   "execution_count": 18,
   "id": "ff38d43e-48cf-4c76-92f4-a39e9669031a",
   "metadata": {},
   "outputs": [],
   "source": [
    "def format_time(elapsed):\n",
    "    '''\n",
    "    Takes a time in seconds and returns a string hh:mm:ss\n",
    "    '''\n",
    "    # Round to the nearest second.\n",
    "    elapsed_rounded = int(round((elapsed)))\n",
    "    \n",
    "    # Format as hh:mm:ss\n",
    "    return str(datetime.timedelta(seconds=elapsed_rounded))\n",
    "\n",
    "###code taken from https://www.kaggle.com/code/themeeemul/sephora-eda-and-sentiment-analysis-using-pytorch/notebook on 26th Jan - useful to print how long the epochs take"
   ]
  },
  {
   "cell_type": "code",
   "execution_count": 19,
   "id": "fb8df1b8-f3e7-4747-8bd6-6d9e1d99bf1a",
   "metadata": {},
   "outputs": [],
   "source": [
    "def train_nn(nn, reviews_train, gold_labels_train, epochs, max_count):\n",
    "    \"\"\"\n",
    "    Train a neural network with the provided training dataset and gold labels.\n",
    "    Return None.\n",
    "\n",
    "    Parameters:\n",
    "    - nn: an instance of the neural network class\n",
    "    - reviews_train: the training dataset (features)\n",
    "    - gold_labels_train: the training gold labels\n",
    "    - epochs: number of times the training data set is ran for training\n",
    "    - max_count: maximum count for normalization, integer given by the max number of an item in the vocabulary array\n",
    "    \"\"\"\n",
    "    \n",
    "    output_nodes = nn.onodes  #number of output nodes in the nn\n",
    "\n",
    "    for epoch in range(epochs):\n",
    "        # Measure how long the training epoch takes.\n",
    "        t0 = time.time()\n",
    "        \n",
    "        #iterating over each training instance\n",
    "        for array, (index, value) in zip(reviews_train.toarray(), gold_labels_train.items()):\n",
    "            #normalizing the inputs\n",
    "            inputs = (array / float(max_count) * 0.99) + 0.01\n",
    "\n",
    "            # creating the target output values (all 0.01, except the desired label which is 0.99)\n",
    "            targets = np.zeros(output_nodes) + 0.01\n",
    "            #the value of the label is the target label for this record\n",
    "            targets[int(value)] = 0.99\n",
    "\n",
    "            #training the neural network\n",
    "            nn.train(inputs, targets)\n",
    "            \n",
    "        # Measure elapsed time for the epoch.\n",
    "        elapsed_time = time.time() - t0\n",
    "\n",
    "        # Print the epoch training time.\n",
    "        print(f\"Epoch {epoch + 1}/{epochs}, Elapsed Time: {format_time(elapsed_time)}\")"
   ]
  },
  {
   "cell_type": "code",
   "execution_count": 20,
   "id": "bb8f6cfc-cfed-4cd6-8225-dbf168cf67c6",
   "metadata": {},
   "outputs": [],
   "source": [
    "def test_nn(nn, data_test, g_labels_test, max_count):\n",
    "    \"\"\"\n",
    "    Test a neural network with the test or development data for validation.\n",
    "    Return the classification report with the error metrics and print the confusion matrix.\n",
    "\n",
    "    Parameters:\n",
    "    - nn: an instance of the neural network class\n",
    "    - data_test: the test or dev dataset (features)\n",
    "    - g_labels_test: the test or dev labels\n",
    "    - max_count: maximum count for normalization, integer given by the max number of an item in the vocabulary array\n",
    "\n",
    "    Print classification report with error metrics: precision, recall, F1 and accuracy.\n",
    "    Plot the confusion matrix.\n",
    "    \"\"\"\n",
    "    \n",
    "    labels = ['0','1']\n",
    "    human_labels_test = []\n",
    "    system_labels_pred = []\n",
    "\n",
    "    # go through all the records in the test/dev data set\n",
    "    for array, (index, value) in zip(data_test.toarray(), g_labels_test.items()):\n",
    "        # normalizing the inputs\n",
    "        inputs = (array / float(max_count) * 0.99) + 0.01\n",
    "        # correct answer is the first value\n",
    "        correct_label = int(value)\n",
    "        human_labels_test.append(str(correct_label))\n",
    "\n",
    "        # query the network\n",
    "        outputs = nn.query(inputs)\n",
    "        # the index of the highest value corresponds to the predicted label\n",
    "        predicted_label = np.argmax(outputs)\n",
    "\n",
    "        # append correct or incorrect to the scorecard\n",
    "        if predicted_label == correct_label:\n",
    "            # network's answer matches correct answer, add 1 to scorecard\n",
    "            system_labels_pred.append('1')\n",
    "        else:\n",
    "            # network's answer doesn't match correct answer, add 0 to scorecard\n",
    "            system_labels_pred.append('0')\n",
    "\n",
    "    report = classification_report(human_labels_test, system_labels_pred, digits = 2, target_names = labels)\n",
    "    cf_matrix = confusion_matrix(human_labels_test, system_labels_pred)\n",
    "    display = ConfusionMatrixDisplay(confusion_matrix=cf_matrix, display_labels=labels)\n",
    "    print(report)\n",
    "    print(cf_matrix)\n",
    "    display.plot()"
   ]
  },
  {
   "cell_type": "code",
   "execution_count": 21,
   "id": "94ab1a8d-a9b6-4f53-8534-dbc642434e90",
   "metadata": {},
   "outputs": [
    {
     "name": "stdout",
     "output_type": "stream",
     "text": [
      "Epoch 1/5, Elapsed Time: 0:00:31\n",
      "Epoch 2/5, Elapsed Time: 0:00:32\n",
      "Epoch 3/5, Elapsed Time: 0:00:33\n",
      "Epoch 4/5, Elapsed Time: 0:00:33\n",
      "Epoch 5/5, Elapsed Time: 0:00:33\n"
     ]
    }
   ],
   "source": [
    "train_nn(n, reviews_train, gold_labels_train, epochs=5, max_count=max_count)"
   ]
  },
  {
   "cell_type": "code",
   "execution_count": 22,
   "id": "4ca97c9c-df31-4a6b-8daf-e15562b9f66c",
   "metadata": {},
   "outputs": [
    {
     "name": "stdout",
     "output_type": "stream",
     "text": [
      "              precision    recall  f1-score   support\n",
      "\n",
      "           0       0.96      0.67      0.79      3185\n",
      "           1       0.75      0.97      0.84      3178\n",
      "\n",
      "    accuracy                           0.82      6363\n",
      "   macro avg       0.85      0.82      0.82      6363\n",
      "weighted avg       0.85      0.82      0.82      6363\n",
      "\n",
      "[[2132 1053]\n",
      " [  88 3090]]\n"
     ]
    },
    {
     "data": {
      "image/png": "[encoded data removed]",
      "text/plain": [
       "<Figure size 640x480 with 2 Axes>"
      ]
     },
     "metadata": {},
     "output_type": "display_data"
    }
   ],
   "source": [
    "test_nn(n, reviews_dev, gold_labels_dev, max_count)"
   ]
  },
  {
   "cell_type": "markdown",
   "id": "75398ff0-6534-4494-abbf-2135771827b9",
   "metadata": {},
   "source": [
    "## Evaluation on test dataset"
   ]
  },
  {
   "cell_type": "code",
   "execution_count": 23,
   "id": "07bf6217-9902-4a95-8600-99fb2f41bcda",
   "metadata": {},
   "outputs": [
    {
     "name": "stdout",
     "output_type": "stream",
     "text": [
      "              precision    recall  f1-score   support\n",
      "\n",
      "           0       0.95      0.68      0.79      3756\n",
      "           1       0.75      0.97      0.84      3730\n",
      "\n",
      "    accuracy                           0.82      7486\n",
      "   macro avg       0.85      0.82      0.82      7486\n",
      "weighted avg       0.85      0.82      0.82      7486\n",
      "\n",
      "[[2544 1212]\n",
      " [ 123 3607]]\n"
     ]
    },
    {
     "data": {
      "image/png": "[encoded data removed]",
      "text/plain": [
       "<Figure size 640x480 with 2 Axes>"
      ]
     },
     "metadata": {},
     "output_type": "display_data"
    }
   ],
   "source": [
    "test_nn(n, reviews_test, gold_labels_test, max_count)"
   ]
  },
  {
   "cell_type": "code",
   "execution_count": null,
   "id": "aeb57e0f-d443-4223-963a-dea4035646ea",
   "metadata": {},
   "outputs": [],
   "source": []
  }
 ],
 "metadata": {
  "kernelspec": {
   "display_name": "Python 3 (ipykernel)",
   "language": "python",
   "name": "python3"
  },
  "language_info": {
   "codemirror_mode": {
    "name": "ipython",
    "version": 3
   },
   "file_extension": ".py",
   "mimetype": "text/x-python",
   "name": "python",
   "nbconvert_exporter": "python",
   "pygments_lexer": "ipython3",
   "version": "3.11.5"
  }
 },
 "nbformat": 4,
 "nbformat_minor": 5
}
