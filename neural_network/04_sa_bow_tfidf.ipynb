{
 "cells": [
  {
   "cell_type": "markdown",
   "id": "912f18f2-375b-417b-9535-34f8b4941e39",
   "metadata": {},
   "source": [
    "# Neural Network for Sentiment Analysis"
   ]
  },
  {
   "cell_type": "markdown",
   "id": "6c337b94-8d63-40e7-b4ed-fe295c8daef1",
   "metadata": {},
   "source": [
    "## Experimenting with TF-IDF BoW"
   ]
  },
  {
   "cell_type": "code",
   "execution_count": 1,
   "id": "e4d52e6a-f579-4f38-b1f3-deb56f63abc2",
   "metadata": {},
   "outputs": [],
   "source": [
    "import pandas as pd\n",
    "from sklearn.feature_extraction.text import TfidfVectorizer\n",
    "from sklearn.decomposition import TruncatedSVD\n",
    "import dill as pickle\n",
    "from nn import neuralNetwork\n",
    "from train_test import train_nn, evaluate_nn,hyperparameter_tuning"
   ]
  },
  {
   "cell_type": "markdown",
   "id": "dbf4b7ee-e109-454d-b4cf-a481d602f305",
   "metadata": {},
   "source": [
    "### Loading data"
   ]
  },
  {
   "cell_type": "code",
   "execution_count": 3,
   "id": "711f4936-2da4-4105-870c-483955bc391c",
   "metadata": {},
   "outputs": [],
   "source": [
    "training_file = \"./sephora-data/sa-reviews_training.csv\"\n",
    "dev_file = \"./sephora-data/sa-reviews_dev.csv\"\n",
    "test_file = \"./sephora-data/sa-reviews_test.csv\""
   ]
  },
  {
   "cell_type": "code",
   "execution_count": 4,
   "id": "3b234b41-b7df-4813-afb4-28501fa8a673",
   "metadata": {},
   "outputs": [],
   "source": [
    "df_training = pd.read_csv(training_file)\n",
    "df_dev = pd.read_csv(dev_file)\n",
    "df_test = pd.read_csv(test_file)"
   ]
  },
  {
   "cell_type": "code",
   "execution_count": 5,
   "id": "aaaa1ed8-fd3f-4c06-8a05-30b1dba73211",
   "metadata": {},
   "outputs": [],
   "source": [
    "#there is a review in Russian that after many trials, is still being saved in the final file\n",
    "df_training.dropna(inplace=True) \n",
    "df_training = df_training.reset_index(drop = True)"
   ]
  },
  {
   "cell_type": "markdown",
   "id": "9b83938b-48ad-451b-9a2b-4738d7ecc469",
   "metadata": {},
   "source": [
    "### Extracting Data as BoW, unigrams"
   ]
  },
  {
   "cell_type": "code",
   "execution_count": 6,
   "id": "b54dadd4-a681-4332-8a4b-1594c3d3834a",
   "metadata": {},
   "outputs": [],
   "source": [
    "# trigrams\n",
    "vectorizer = TfidfVectorizer(min_df=10)\n",
    "\n",
    "# Fit and transform the text data\n",
    "feat_vectorized_train = vectorizer.fit_transform(df_training['preprocessed_text'])\n",
    "gold_labels_train = df_training['label'].to_numpy()\n",
    "feat_vectorized_dev = vectorizer.transform(df_dev['preprocessed_text'])\n",
    "gold_labels_dev = df_dev['label'].to_numpy()\n",
    "feat_vectorized_test = vectorizer.transform(df_test['preprocessed_text'])\n",
    "gold_labels_test = df_test['label'].to_numpy()"
   ]
  },
  {
   "cell_type": "code",
   "execution_count": 7,
   "id": "8b91f452-4705-46ac-ad67-daf4c70575f0",
   "metadata": {},
   "outputs": [
    {
     "data": {
      "text/plain": [
       "(33934, 3494)"
      ]
     },
     "execution_count": 7,
     "metadata": {},
     "output_type": "execute_result"
    }
   ],
   "source": [
    "feat_vectorized_train.shape"
   ]
  },
  {
   "cell_type": "markdown",
   "id": "040b4e39-c2ce-4540-876b-d69518e48541",
   "metadata": {},
   "source": [
    "### Reducing dimensionality of feature vector"
   ]
  },
  {
   "cell_type": "code",
   "execution_count": 8,
   "id": "d8d61ad4-df01-47cd-a096-03d8f9fda0bb",
   "metadata": {},
   "outputs": [],
   "source": [
    "desired_dimension = 300\n",
    "svd = TruncatedSVD(n_components=desired_dimension)\n",
    "feat_vectorized_train_svd = svd.fit_transform(feat_vectorized_train)\n",
    "feat_vectorized_dev_svd = svd.transform(feat_vectorized_dev)\n",
    "feat_vectorized_test_svd = svd.transform(feat_vectorized_test)"
   ]
  },
  {
   "cell_type": "code",
   "execution_count": 9,
   "id": "8a299e7f-4c1d-49c4-b9dd-51b4dc7f407e",
   "metadata": {},
   "outputs": [
    {
     "data": {
      "text/plain": [
       "(33934, 300)"
      ]
     },
     "execution_count": 9,
     "metadata": {},
     "output_type": "execute_result"
    }
   ],
   "source": [
    "feat_vectorized_train_svd.shape"
   ]
  },
  {
   "cell_type": "markdown",
   "id": "5deddd34-8eff-481b-9b65-f058bd1b742b",
   "metadata": {},
   "source": [
    "### Defining the Neural Network parameters"
   ]
  },
  {
   "cell_type": "code",
   "execution_count": 10,
   "id": "8813383e-a484-415b-a6a3-3179f7a5b969",
   "metadata": {},
   "outputs": [],
   "source": [
    "# number of input, hidden and output nodes\n",
    "input_nodes = desired_dimension #this is the size of the features\n",
    "hidden_nodes = 100\n",
    "output_nodes = 1\n",
    "\n",
    "# learning rate\n",
    "learning_rate = 0.01\n",
    "\n",
    "# create instance of neural network\n",
    "n = neuralNetwork(input_nodes,hidden_nodes,output_nodes, learning_rate)"
   ]
  },
  {
   "cell_type": "markdown",
   "id": "5ec246e0-9dec-4403-b851-f70dd42aa276",
   "metadata": {},
   "source": [
    "### Training the Neural Network"
   ]
  },
  {
   "cell_type": "code",
   "execution_count": 11,
   "id": "0488cd8f-4372-49ee-9216-0d1e771c7023",
   "metadata": {},
   "outputs": [
    {
     "name": "stdout",
     "output_type": "stream",
     "text": [
      "Epoch 1/10, Elapsed Time: 0:00:03, Accuracy: 0.8404844698532445\n",
      "Epoch 2/10, Elapsed Time: 0:00:02, Accuracy: 0.8488536570990747\n",
      "Epoch 3/10, Elapsed Time: 0:00:03, Accuracy: 0.8505039193729004\n",
      "Epoch 4/10, Elapsed Time: 0:00:03, Accuracy: 0.8513879884481641\n",
      "Epoch 5/10, Elapsed Time: 0:00:03, Accuracy: 0.8515942712323923\n",
      "Epoch 6/10, Elapsed Time: 0:00:02, Accuracy: 0.8518300229857959\n",
      "Epoch 7/10, Elapsed Time: 0:00:03, Accuracy: 0.8517121471090942\n",
      "Epoch 8/10, Elapsed Time: 0:00:03, Accuracy: 0.8516532091707432\n",
      "Epoch 9/10, Elapsed Time: 0:00:03, Accuracy: 0.8518594919549715\n",
      "Epoch 10/10, Elapsed Time: 0:00:02, Accuracy: 0.8519184298933223\n"
     ]
    },
    {
     "data": {
      "image/png": "[encoded data removed]",
      "text/plain": [
       "<Figure size 640x480 with 1 Axes>"
      ]
     },
     "metadata": {},
     "output_type": "display_data"
    }
   ],
   "source": [
    "epochs = 10\n",
    "nn_trigram_bow = train_nn(n, feat_vectorized_train_svd, gold_labels_train, epochs)"
   ]
  },
  {
   "cell_type": "code",
   "execution_count": 12,
   "id": "8bd18aaa-e975-4423-ac8d-1999c6371dde",
   "metadata": {},
   "outputs": [],
   "source": [
    "# saving the trained neural network to a file\n",
    "pkl_filename = './models/nn_tfidf_bow_model.pkl'\n",
    "with open(pkl_filename, 'wb') as file:\n",
    "     pickle.dump(nn_trigram_bow, file)\n",
    "\n",
    "#saving the vectorizer for reproducibility\n",
    "vec_filename = 'models/nn_tfidf_bow_vectorizer.pkl'\n",
    "with open(vec_filename, 'wb') as file:\n",
    "    pickle.dump(vectorizer, file)"
   ]
  },
  {
   "cell_type": "markdown",
   "id": "a578e63a-3815-46a5-b41b-31b5ad886251",
   "metadata": {},
   "source": [
    "### Evaluating the perfomance on validation set"
   ]
  },
  {
   "cell_type": "code",
   "execution_count": 13,
   "id": "2b9ce22a-b9c4-46d0-a7c7-004c50c351e6",
   "metadata": {},
   "outputs": [],
   "source": [
    "# load from file\n",
    "with open(pkl_filename, 'rb') as file:\n",
    "    nn_tfidf_bow_model = pickle.load(file)"
   ]
  },
  {
   "cell_type": "code",
   "execution_count": 14,
   "id": "0a84bba5-5b34-4e3f-8ed8-fc18e1eab8bb",
   "metadata": {},
   "outputs": [
    {
     "name": "stdout",
     "output_type": "stream",
     "text": [
      "Classification Report:\n",
      "              precision    recall  f1-score   support\n",
      "\n",
      "           0       0.86      0.83      0.84      2986\n",
      "           1       0.83      0.86      0.85      3003\n",
      "\n",
      "    accuracy                           0.85      5989\n",
      "   macro avg       0.85      0.85      0.85      5989\n",
      "weighted avg       0.85      0.85      0.85      5989\n",
      "\n",
      "[[2472  514]\n",
      " [ 406 2597]]\n"
     ]
    },
    {
     "data": {
      "image/png": "[encoded data removed]",
      "text/plain": [
       "<Figure size 640x480 with 2 Axes>"
      ]
     },
     "metadata": {},
     "output_type": "display_data"
    }
   ],
   "source": [
    "evaluate_nn(nn_tfidf_bow_model, feat_vectorized_dev_svd, gold_labels_dev)"
   ]
  },
  {
   "cell_type": "markdown",
   "id": "39385a7b-e28b-41ab-b429-51d7181ffc6d",
   "metadata": {},
   "source": [
    "### Hyperparameter tuning on best performing model: TF-IDF"
   ]
  },
  {
   "cell_type": "code",
   "execution_count": 10,
   "id": "cba6a730-e997-4f91-8484-f7258d97093e",
   "metadata": {},
   "outputs": [
    {
     "name": "stdout",
     "output_type": "stream",
     "text": [
      "Performance: 0.8320253798630823\n",
      "Hidden nodes: 100\n",
      "Learning rate: 0.1\n",
      "Number of epochs: 5\n",
      "\n",
      "Performance: 0.838537318417098\n",
      "Hidden nodes: 100\n",
      "Learning rate: 0.1\n",
      "Number of epochs: 10\n",
      "\n",
      "Performance: 0.8430455835698781\n",
      "Hidden nodes: 100\n",
      "Learning rate: 0.1\n",
      "Number of epochs: 15\n",
      "\n",
      "Performance: 0.8443813658373686\n",
      "Hidden nodes: 100\n",
      "Learning rate: 0.01\n",
      "Number of epochs: 5\n",
      "\n",
      "Performance: 0.8460510936717315\n",
      "Hidden nodes: 100\n",
      "Learning rate: 0.01\n",
      "Number of epochs: 10\n",
      "\n",
      "Performance: 0.8458841208882952\n",
      "Hidden nodes: 100\n",
      "Learning rate: 0.01\n",
      "Number of epochs: 15\n",
      "\n",
      "Performance: 0.8361996994489899\n",
      "Hidden nodes: 100\n",
      "Learning rate: 0.001\n",
      "Number of epochs: 5\n",
      "\n",
      "Performance: 0.8438804474870596\n",
      "Hidden nodes: 100\n",
      "Learning rate: 0.001\n",
      "Number of epochs: 10\n",
      "\n",
      "Performance: 0.848555685423276\n",
      "Hidden nodes: 100\n",
      "Learning rate: 0.001\n",
      "Number of epochs: 15\n",
      "\n",
      "Performance: 0.8169978293538154\n",
      "Hidden nodes: 200\n",
      "Learning rate: 0.1\n",
      "Number of epochs: 5\n",
      "\n",
      "Performance: 0.8245116046084489\n",
      "Hidden nodes: 200\n",
      "Learning rate: 0.1\n",
      "Number of epochs: 10\n",
      "\n",
      "Performance: 0.8375354817164802\n",
      "Hidden nodes: 200\n",
      "Learning rate: 0.1\n",
      "Number of epochs: 15\n",
      "\n",
      "Performance: 0.8443813658373686\n",
      "Hidden nodes: 200\n",
      "Learning rate: 0.01\n",
      "Number of epochs: 5\n",
      "\n",
      "Performance: 0.844715311404241\n",
      "Hidden nodes: 200\n",
      "Learning rate: 0.01\n",
      "Number of epochs: 10\n",
      "\n",
      "Performance: 0.8437134747036233\n",
      "Hidden nodes: 200\n",
      "Learning rate: 0.01\n",
      "Number of epochs: 15\n",
      "\n",
      "Performance: 0.8266822507931207\n",
      "Hidden nodes: 200\n",
      "Learning rate: 0.001\n",
      "Number of epochs: 5\n",
      "\n",
      "Performance: 0.8498914676907664\n",
      "Hidden nodes: 200\n",
      "Learning rate: 0.001\n",
      "Number of epochs: 10\n",
      "\n",
      "Performance: 0.8473868759392219\n",
      "Hidden nodes: 200\n",
      "Learning rate: 0.001\n",
      "Number of epochs: 15\n",
      "\n",
      "Performance: 0.8031390883286025\n",
      "Hidden nodes: 300\n",
      "Learning rate: 0.1\n",
      "Number of epochs: 5\n",
      "\n",
      "Performance: 0.8138253464685257\n",
      "Hidden nodes: 300\n",
      "Learning rate: 0.1\n",
      "Number of epochs: 10\n",
      "\n",
      "Performance: 0.8243446318250125\n",
      "Hidden nodes: 300\n",
      "Learning rate: 0.1\n",
      "Number of epochs: 15\n",
      "\n",
      "Performance: 0.8418767740858241\n",
      "Hidden nodes: 300\n",
      "Learning rate: 0.01\n",
      "Number of epochs: 5\n",
      "\n",
      "Performance: 0.8418767740858241\n",
      "Hidden nodes: 300\n",
      "Learning rate: 0.01\n",
      "Number of epochs: 10\n",
      "\n",
      "Performance: 0.8420437468692603\n",
      "Hidden nodes: 300\n",
      "Learning rate: 0.01\n",
      "Number of epochs: 15\n",
      "\n",
      "Performance: 0.8453832025379863\n",
      "Hidden nodes: 300\n",
      "Learning rate: 0.001\n",
      "Number of epochs: 5\n",
      "\n",
      "Performance: 0.8443813658373686\n",
      "Hidden nodes: 300\n",
      "Learning rate: 0.001\n",
      "Number of epochs: 10\n",
      "\n",
      "Performance: 0.8472199031557857\n",
      "Hidden nodes: 300\n",
      "Learning rate: 0.001\n",
      "Number of epochs: 15\n",
      "\n",
      "Best hyperparameters: (200, 0.001, 10)\n",
      "Best performance: 0.8498914676907664\n"
     ]
    }
   ],
   "source": [
    "input_nodes = desired_dimension #this is the size of the feature vector\n",
    "output_nodes = 1\n",
    "\n",
    "#defining the hyperparameters and their possible values\n",
    "param_grid = {\n",
    "    'hidden_nodes': [100, 200, 300],\n",
    "    'learning_rate': [0.1, 0.01, 0.001],\n",
    "    'epochs': [5, 10, 15]   \n",
    "}\n",
    "\n",
    "best_parameters = hyperparameter_tuning(input_nodes, output_nodes, feat_vectorized_train_svd, gold_labels_train, feat_vectorized_dev_svd, gold_labels_dev, param_grid)"
   ]
  },
  {
   "cell_type": "markdown",
   "id": "1fef6876-09d1-4944-9be4-611359f1bbd7",
   "metadata": {},
   "source": [
    "### Training and Evaluation on test data with the best parameters"
   ]
  },
  {
   "cell_type": "code",
   "execution_count": 13,
   "id": "738af306-1ff1-4306-bbba-ac6737e7e588",
   "metadata": {},
   "outputs": [
    {
     "name": "stdout",
     "output_type": "stream",
     "text": [
      "Epoch 1/10, Elapsed Time: 0:00:05, Accuracy: 0.6902811339659338\n",
      "Epoch 2/10, Elapsed Time: 0:00:04, Accuracy: 0.7895620911180526\n",
      "Epoch 3/10, Elapsed Time: 0:00:04, Accuracy: 0.8207402605056875\n",
      "Epoch 4/10, Elapsed Time: 0:00:04, Accuracy: 0.8317027170389579\n",
      "Epoch 5/10, Elapsed Time: 0:00:04, Accuracy: 0.8366240348912595\n",
      "Epoch 6/10, Elapsed Time: 0:00:04, Accuracy: 0.841545352743561\n",
      "Epoch 7/10, Elapsed Time: 0:00:04, Accuracy: 0.8437849944008958\n",
      "Epoch 8/10, Elapsed Time: 0:00:04, Accuracy: 0.8455531325514234\n",
      "Epoch 9/10, Elapsed Time: 0:00:04, Accuracy: 0.8467024223492662\n",
      "Epoch 10/10, Elapsed Time: 0:00:04, Accuracy: 0.8471444568868981\n"
     ]
    },
    {
     "data": {
      "image/png": "[encoded data removed]",
      "text/plain": [
       "<Figure size 640x480 with 1 Axes>"
      ]
     },
     "metadata": {},
     "output_type": "display_data"
    }
   ],
   "source": [
    "# number of input, hidden and output nodes\n",
    "input_nodes = desired_dimension #this is the size of the features\n",
    "hidden_nodes = 200\n",
    "output_nodes = 1\n",
    "\n",
    "# learning rate\n",
    "learning_rate = 0.001\n",
    "\n",
    "# create instance of neural network\n",
    "n = neuralNetwork(input_nodes,hidden_nodes,output_nodes, learning_rate)\n",
    "\n",
    "epochs = 10\n",
    "nn_tfidf_bow = train_nn(n, feat_vectorized_train_svd, gold_labels_train, epochs)"
   ]
  },
  {
   "cell_type": "code",
   "execution_count": 14,
   "id": "8975b604-5418-416a-8c24-9916a6e89895",
   "metadata": {},
   "outputs": [],
   "source": [
    "# rewriting the trained neural network after hyperparameter tuning\n",
    "pkl_filename = './models/nn_tfidf_bow_model.pkl'\n",
    "with open(pkl_filename, 'wb') as file:\n",
    "     pickle.dump(nn_tfidf_bow, file)"
   ]
  },
  {
   "cell_type": "code",
   "execution_count": 15,
   "id": "330e0005-0e39-449b-a9f6-b479335f27c5",
   "metadata": {},
   "outputs": [],
   "source": [
    "# load from file\n",
    "with open(pkl_filename, 'rb') as file:\n",
    "    nn_tfidf_bow_model = pickle.load(file)"
   ]
  },
  {
   "cell_type": "code",
   "execution_count": 16,
   "id": "9e54f2d0-5c51-4ee7-89e7-ce8b0f21f06b",
   "metadata": {},
   "outputs": [
    {
     "name": "stdout",
     "output_type": "stream",
     "text": [
      "Classification Report:\n",
      "              precision    recall  f1-score   support\n",
      "\n",
      "           0       0.84      0.86      0.85      4993\n",
      "           1       0.86      0.84      0.85      4988\n",
      "\n",
      "    accuracy                           0.85      9981\n",
      "   macro avg       0.85      0.85      0.85      9981\n",
      "weighted avg       0.85      0.85      0.85      9981\n",
      "\n",
      "[[4285  708]\n",
      " [ 804 4184]]\n"
     ]
    },
    {
     "data": {
      "image/png": "[encoded data removed]",
      "text/plain": [
       "<Figure size 640x480 with 2 Axes>"
      ]
     },
     "metadata": {},
     "output_type": "display_data"
    }
   ],
   "source": [
    "evaluate_nn(nn_tfidf_bow_model, feat_vectorized_test_svd, gold_labels_test)"
   ]
  },
  {
   "cell_type": "code",
   "execution_count": null,
   "id": "c12a5000-b8b7-4247-8463-3f3ef9357d9a",
   "metadata": {},
   "outputs": [],
   "source": []
  }
 ],
 "metadata": {
  "kernelspec": {
   "display_name": "Python 3 (ipykernel)",
   "language": "python",
   "name": "python3"
  },
  "language_info": {
   "codemirror_mode": {
    "name": "ipython",
    "version": 3
   },
   "file_extension": ".py",
   "mimetype": "text/x-python",
   "name": "python",
   "nbconvert_exporter": "python",
   "pygments_lexer": "ipython3",
   "version": "3.11.5"
  }
 },
 "nbformat": 4,
 "nbformat_minor": 5
}
