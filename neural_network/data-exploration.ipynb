{
 "cells": [
  {
   "cell_type": "markdown",
   "id": "912f18f2-375b-417b-9535-34f8b4941e39",
   "metadata": {},
   "source": [
    "# Neural Network for Sentiment Analysis"
   ]
  },
  {
   "cell_type": "markdown",
   "id": "8b872d7e-64c7-4919-a170-d95eb4d17f9a",
   "metadata": {},
   "source": [
    "# Data exploration"
   ]
  },
  {
   "cell_type": "markdown",
   "id": "65335474-b3d5-4664-889f-6d5b6538fffd",
   "metadata": {},
   "source": [
    "Data: Sephora Products and Skincare review, found at: https://www.kaggle.com/datasets/nadyinky/sephora-products-and-skincare-reviews?resource=download\n",
    "\n",
    "Inspiration taken from the sentiment analysis task on Kaggle: \\\n",
    "https://www.kaggle.com/code/aashidutt3/sentiment-analysis-sephora-reviews \\\n",
    "last checked on Jan 23, 2024"
   ]
  },
  {
   "cell_type": "code",
   "execution_count": 18,
   "id": "e4d52e6a-f579-4f38-b1f3-deb56f63abc2",
   "metadata": {},
   "outputs": [],
   "source": [
    "import pandas as pd\n",
    "import glob\n",
    "import seaborn as sns\n",
    "import matplotlib.pyplot as plt\n",
    "from utils_data_exploration import get_total_reviews_for_all_dataset, process_csv_file, print_label_percentages, calculate_percentage_and_count_for_values"
   ]
  },
  {
   "cell_type": "code",
   "execution_count": 2,
   "id": "17d65662-d97a-4220-97e7-2f5d4b1bd79e",
   "metadata": {},
   "outputs": [
    {
     "name": "stdout",
     "output_type": "stream",
     "text": [
      "./sephora-data/reviews_0-250.csv\n",
      "./sephora-data/reviews_1250-end.csv\n",
      "./sephora-data/reviews_750-1250.csv\n",
      "./sephora-data/reviews_250-500.csv\n",
      "./sephora-data/reviews_500-750.csv\n"
     ]
    }
   ],
   "source": [
    "#checking the amount of files in the dataset\n",
    "file_paths = []\n",
    "for filename in glob.glob('./sephora-data/reviews*'):\n",
    "    print(filename)\n",
    "    file_paths.append(filename)"
   ]
  },
  {
   "cell_type": "code",
   "execution_count": 3,
   "id": "33abb6f7-d5ad-4b30-9a47-d84926ed5435",
   "metadata": {},
   "outputs": [
    {
     "name": "stderr",
     "output_type": "stream",
     "text": [
      "/Users/arianabritez/Documents/research-master/resit-neural-network/neural_network/utils_data_exploration.py:12: DtypeWarning: Columns (1) have mixed types. Specify dtype option on import or set low_memory=False.\n",
      "  df = pd.read_csv(file_path)\n"
     ]
    },
    {
     "name": "stdout",
     "output_type": "stream",
     "text": [
      "File: ./sephora-data/reviews_0-250.csv, Reviews: 602130\n"
     ]
    },
    {
     "name": "stderr",
     "output_type": "stream",
     "text": [
      "/Users/arianabritez/Documents/research-master/resit-neural-network/neural_network/utils_data_exploration.py:12: DtypeWarning: Columns (1) have mixed types. Specify dtype option on import or set low_memory=False.\n",
      "  df = pd.read_csv(file_path)\n"
     ]
    },
    {
     "name": "stdout",
     "output_type": "stream",
     "text": [
      "File: ./sephora-data/reviews_1250-end.csv, Reviews: 49977\n"
     ]
    },
    {
     "name": "stderr",
     "output_type": "stream",
     "text": [
      "/Users/arianabritez/Documents/research-master/resit-neural-network/neural_network/utils_data_exploration.py:12: DtypeWarning: Columns (1) have mixed types. Specify dtype option on import or set low_memory=False.\n",
      "  df = pd.read_csv(file_path)\n"
     ]
    },
    {
     "name": "stdout",
     "output_type": "stream",
     "text": [
      "File: ./sephora-data/reviews_750-1250.csv, Reviews: 119317\n",
      "File: ./sephora-data/reviews_250-500.csv, Reviews: 206725\n",
      "File: ./sephora-data/reviews_500-750.csv, Reviews: 116262\n",
      "\n",
      "Total reviews across all files: 1094411\n"
     ]
    }
   ],
   "source": [
    "get_total_reviews_for_all_dataset(file_paths)"
   ]
  },
  {
   "cell_type": "code",
   "execution_count": 4,
   "id": "99da1134-9c9b-4b65-b6c4-a505f2720cf4",
   "metadata": {},
   "outputs": [
    {
     "name": "stderr",
     "output_type": "stream",
     "text": [
      "/var/folders/c3/6b53cyc56hdcsrh90312r_1w0000gn/T/ipykernel_17049/1527436970.py:2: DtypeWarning: Columns (1) have mixed types. Specify dtype option on import or set low_memory=False.\n",
      "  df = pd.read_csv(file_paths[0])\n"
     ]
    }
   ],
   "source": [
    "#reading the first file with pandas\n",
    "df = pd.read_csv(file_paths[0])"
   ]
  },
  {
   "cell_type": "code",
   "execution_count": 5,
   "id": "3a2d0de1-3a4a-4ae2-b5ac-92c69404d91d",
   "metadata": {},
   "outputs": [
    {
     "data": {
      "text/plain": [
       "(602130, 19)"
      ]
     },
     "execution_count": 5,
     "metadata": {},
     "output_type": "execute_result"
    }
   ],
   "source": [
    "df.shape"
   ]
  },
  {
   "cell_type": "code",
   "execution_count": 6,
   "id": "bc20eb4b-b320-4df2-bf3a-e654110e6834",
   "metadata": {},
   "outputs": [
    {
     "data": {
      "text/html": [
       "<div>\n",
       "<style scoped>\n",
       "    .dataframe tbody tr th:only-of-type {\n",
       "        vertical-align: middle;\n",
       "    }\n",
       "\n",
       "    .dataframe tbody tr th {\n",
       "        vertical-align: top;\n",
       "    }\n",
       "\n",
       "    .dataframe thead th {\n",
       "        text-align: right;\n",
       "    }\n",
       "</style>\n",
       "<table border=\"1\" class=\"dataframe\">\n",
       "  <thead>\n",
       "    <tr style=\"text-align: right;\">\n",
       "      <th></th>\n",
       "      <th>Unnamed: 0</th>\n",
       "      <th>author_id</th>\n",
       "      <th>rating</th>\n",
       "      <th>is_recommended</th>\n",
       "      <th>helpfulness</th>\n",
       "      <th>total_feedback_count</th>\n",
       "      <th>total_neg_feedback_count</th>\n",
       "      <th>total_pos_feedback_count</th>\n",
       "      <th>submission_time</th>\n",
       "      <th>review_text</th>\n",
       "      <th>review_title</th>\n",
       "      <th>skin_tone</th>\n",
       "      <th>eye_color</th>\n",
       "      <th>skin_type</th>\n",
       "      <th>hair_color</th>\n",
       "      <th>product_id</th>\n",
       "      <th>product_name</th>\n",
       "      <th>brand_name</th>\n",
       "      <th>price_usd</th>\n",
       "    </tr>\n",
       "  </thead>\n",
       "  <tbody>\n",
       "    <tr>\n",
       "      <th>0</th>\n",
       "      <td>0</td>\n",
       "      <td>1741593524</td>\n",
       "      <td>5</td>\n",
       "      <td>1.0</td>\n",
       "      <td>1.0</td>\n",
       "      <td>2</td>\n",
       "      <td>0</td>\n",
       "      <td>2</td>\n",
       "      <td>2023-02-01</td>\n",
       "      <td>I use this with the Nudestix “Citrus Clean Bal...</td>\n",
       "      <td>Taught me how to double cleanse!</td>\n",
       "      <td>NaN</td>\n",
       "      <td>brown</td>\n",
       "      <td>dry</td>\n",
       "      <td>black</td>\n",
       "      <td>P504322</td>\n",
       "      <td>Gentle Hydra-Gel Face Cleanser</td>\n",
       "      <td>NUDESTIX</td>\n",
       "      <td>19.0</td>\n",
       "    </tr>\n",
       "    <tr>\n",
       "      <th>1</th>\n",
       "      <td>1</td>\n",
       "      <td>31423088263</td>\n",
       "      <td>1</td>\n",
       "      <td>0.0</td>\n",
       "      <td>NaN</td>\n",
       "      <td>0</td>\n",
       "      <td>0</td>\n",
       "      <td>0</td>\n",
       "      <td>2023-03-21</td>\n",
       "      <td>I bought this lip mask after reading the revie...</td>\n",
       "      <td>Disappointed</td>\n",
       "      <td>NaN</td>\n",
       "      <td>NaN</td>\n",
       "      <td>NaN</td>\n",
       "      <td>NaN</td>\n",
       "      <td>P420652</td>\n",
       "      <td>Lip Sleeping Mask Intense Hydration with Vitam...</td>\n",
       "      <td>LANEIGE</td>\n",
       "      <td>24.0</td>\n",
       "    </tr>\n",
       "    <tr>\n",
       "      <th>2</th>\n",
       "      <td>2</td>\n",
       "      <td>5061282401</td>\n",
       "      <td>5</td>\n",
       "      <td>1.0</td>\n",
       "      <td>NaN</td>\n",
       "      <td>0</td>\n",
       "      <td>0</td>\n",
       "      <td>0</td>\n",
       "      <td>2023-03-21</td>\n",
       "      <td>My review title says it all! I get so excited ...</td>\n",
       "      <td>New Favorite Routine</td>\n",
       "      <td>light</td>\n",
       "      <td>brown</td>\n",
       "      <td>dry</td>\n",
       "      <td>blonde</td>\n",
       "      <td>P420652</td>\n",
       "      <td>Lip Sleeping Mask Intense Hydration with Vitam...</td>\n",
       "      <td>LANEIGE</td>\n",
       "      <td>24.0</td>\n",
       "    </tr>\n",
       "    <tr>\n",
       "      <th>3</th>\n",
       "      <td>3</td>\n",
       "      <td>6083038851</td>\n",
       "      <td>5</td>\n",
       "      <td>1.0</td>\n",
       "      <td>NaN</td>\n",
       "      <td>0</td>\n",
       "      <td>0</td>\n",
       "      <td>0</td>\n",
       "      <td>2023-03-20</td>\n",
       "      <td>I’ve always loved this formula for a long time...</td>\n",
       "      <td>Can't go wrong with any of them</td>\n",
       "      <td>NaN</td>\n",
       "      <td>brown</td>\n",
       "      <td>combination</td>\n",
       "      <td>black</td>\n",
       "      <td>P420652</td>\n",
       "      <td>Lip Sleeping Mask Intense Hydration with Vitam...</td>\n",
       "      <td>LANEIGE</td>\n",
       "      <td>24.0</td>\n",
       "    </tr>\n",
       "    <tr>\n",
       "      <th>4</th>\n",
       "      <td>4</td>\n",
       "      <td>47056667835</td>\n",
       "      <td>5</td>\n",
       "      <td>1.0</td>\n",
       "      <td>NaN</td>\n",
       "      <td>0</td>\n",
       "      <td>0</td>\n",
       "      <td>0</td>\n",
       "      <td>2023-03-20</td>\n",
       "      <td>If you have dry cracked lips, this is a must h...</td>\n",
       "      <td>A must have !!!</td>\n",
       "      <td>light</td>\n",
       "      <td>hazel</td>\n",
       "      <td>combination</td>\n",
       "      <td>NaN</td>\n",
       "      <td>P420652</td>\n",
       "      <td>Lip Sleeping Mask Intense Hydration with Vitam...</td>\n",
       "      <td>LANEIGE</td>\n",
       "      <td>24.0</td>\n",
       "    </tr>\n",
       "  </tbody>\n",
       "</table>\n",
       "</div>"
      ],
      "text/plain": [
       "   Unnamed: 0    author_id  rating  is_recommended  helpfulness  \\\n",
       "0           0   1741593524       5             1.0          1.0   \n",
       "1           1  31423088263       1             0.0          NaN   \n",
       "2           2   5061282401       5             1.0          NaN   \n",
       "3           3   6083038851       5             1.0          NaN   \n",
       "4           4  47056667835       5             1.0          NaN   \n",
       "\n",
       "   total_feedback_count  total_neg_feedback_count  total_pos_feedback_count  \\\n",
       "0                     2                         0                         2   \n",
       "1                     0                         0                         0   \n",
       "2                     0                         0                         0   \n",
       "3                     0                         0                         0   \n",
       "4                     0                         0                         0   \n",
       "\n",
       "  submission_time                                        review_text  \\\n",
       "0      2023-02-01  I use this with the Nudestix “Citrus Clean Bal...   \n",
       "1      2023-03-21  I bought this lip mask after reading the revie...   \n",
       "2      2023-03-21  My review title says it all! I get so excited ...   \n",
       "3      2023-03-20  I’ve always loved this formula for a long time...   \n",
       "4      2023-03-20  If you have dry cracked lips, this is a must h...   \n",
       "\n",
       "                       review_title skin_tone eye_color    skin_type  \\\n",
       "0  Taught me how to double cleanse!       NaN     brown          dry   \n",
       "1                      Disappointed       NaN       NaN          NaN   \n",
       "2              New Favorite Routine     light     brown          dry   \n",
       "3   Can't go wrong with any of them       NaN     brown  combination   \n",
       "4                   A must have !!!     light     hazel  combination   \n",
       "\n",
       "  hair_color product_id                                       product_name  \\\n",
       "0      black    P504322                     Gentle Hydra-Gel Face Cleanser   \n",
       "1        NaN    P420652  Lip Sleeping Mask Intense Hydration with Vitam...   \n",
       "2     blonde    P420652  Lip Sleeping Mask Intense Hydration with Vitam...   \n",
       "3      black    P420652  Lip Sleeping Mask Intense Hydration with Vitam...   \n",
       "4        NaN    P420652  Lip Sleeping Mask Intense Hydration with Vitam...   \n",
       "\n",
       "  brand_name  price_usd  \n",
       "0   NUDESTIX       19.0  \n",
       "1    LANEIGE       24.0  \n",
       "2    LANEIGE       24.0  \n",
       "3    LANEIGE       24.0  \n",
       "4    LANEIGE       24.0  "
      ]
     },
     "execution_count": 6,
     "metadata": {},
     "output_type": "execute_result"
    }
   ],
   "source": [
    "df.head()"
   ]
  },
  {
   "cell_type": "code",
   "execution_count": 7,
   "id": "6b50bc75-8197-4e31-a401-92e4af44114c",
   "metadata": {},
   "outputs": [
    {
     "name": "stderr",
     "output_type": "stream",
     "text": [
      "/Users/arianabritez/Documents/research-master/resit-neural-network/neural_network/utils_data_exploration.py:32: DtypeWarning: Columns (1) have mixed types. Specify dtype option on import or set low_memory=False.\n",
      "  df = pd.read_csv(file_path)\n"
     ]
    },
    {
     "data": {
      "text/html": [
       "<div>\n",
       "<style scoped>\n",
       "    .dataframe tbody tr th:only-of-type {\n",
       "        vertical-align: middle;\n",
       "    }\n",
       "\n",
       "    .dataframe tbody tr th {\n",
       "        vertical-align: top;\n",
       "    }\n",
       "\n",
       "    .dataframe thead th {\n",
       "        text-align: right;\n",
       "    }\n",
       "</style>\n",
       "<table border=\"1\" class=\"dataframe\">\n",
       "  <thead>\n",
       "    <tr style=\"text-align: right;\">\n",
       "      <th></th>\n",
       "      <th>text</th>\n",
       "      <th>label</th>\n",
       "      <th>rating</th>\n",
       "    </tr>\n",
       "  </thead>\n",
       "  <tbody>\n",
       "    <tr>\n",
       "      <th>0</th>\n",
       "      <td>I use this with the Nudestix “Citrus Clean Bal...</td>\n",
       "      <td>1.0</td>\n",
       "      <td>5</td>\n",
       "    </tr>\n",
       "    <tr>\n",
       "      <th>1</th>\n",
       "      <td>I bought this lip mask after reading the revie...</td>\n",
       "      <td>0.0</td>\n",
       "      <td>1</td>\n",
       "    </tr>\n",
       "    <tr>\n",
       "      <th>2</th>\n",
       "      <td>My review title says it all! I get so excited ...</td>\n",
       "      <td>1.0</td>\n",
       "      <td>5</td>\n",
       "    </tr>\n",
       "    <tr>\n",
       "      <th>3</th>\n",
       "      <td>I’ve always loved this formula for a long time...</td>\n",
       "      <td>1.0</td>\n",
       "      <td>5</td>\n",
       "    </tr>\n",
       "    <tr>\n",
       "      <th>4</th>\n",
       "      <td>If you have dry cracked lips, this is a must h...</td>\n",
       "      <td>1.0</td>\n",
       "      <td>5</td>\n",
       "    </tr>\n",
       "  </tbody>\n",
       "</table>\n",
       "</div>"
      ],
      "text/plain": [
       "                                                text  label  rating\n",
       "0  I use this with the Nudestix “Citrus Clean Bal...    1.0       5\n",
       "1  I bought this lip mask after reading the revie...    0.0       1\n",
       "2  My review title says it all! I get so excited ...    1.0       5\n",
       "3  I’ve always loved this formula for a long time...    1.0       5\n",
       "4  If you have dry cracked lips, this is a must h...    1.0       5"
      ]
     },
     "execution_count": 7,
     "metadata": {},
     "output_type": "execute_result"
    }
   ],
   "source": [
    "#keeping the data that is valueable for the task\n",
    "df = process_csv_file(file_paths[0])\n",
    "df.head()"
   ]
  },
  {
   "cell_type": "code",
   "execution_count": 8,
   "id": "d0e3ecea-277c-4c4a-b3be-ba8c84b62adf",
   "metadata": {},
   "outputs": [
    {
     "name": "stdout",
     "output_type": "stream",
     "text": [
      "<class 'pandas.core.frame.DataFrame'>\n",
      "RangeIndex: 602130 entries, 0 to 602129\n",
      "Data columns (total 3 columns):\n",
      " #   Column  Non-Null Count   Dtype  \n",
      "---  ------  --------------   -----  \n",
      " 0   text    601131 non-null  object \n",
      " 1   label   484644 non-null  float64\n",
      " 2   rating  602130 non-null  int64  \n",
      "dtypes: float64(1), int64(1), object(1)\n",
      "memory usage: 13.8+ MB\n"
     ]
    }
   ],
   "source": [
    "#checking the count of reviews, labels and rating in the first file\n",
    "df.info()"
   ]
  },
  {
   "cell_type": "code",
   "execution_count": 9,
   "id": "95a092fa-4307-4041-affc-1b89f878c7db",
   "metadata": {},
   "outputs": [
    {
     "data": {
      "text/plain": [
       "label\n",
       "1.0    406094\n",
       "0.0     78550\n",
       "Name: count, dtype: int64"
      ]
     },
     "execution_count": 9,
     "metadata": {},
     "output_type": "execute_result"
    }
   ],
   "source": [
    "#checking the amount of labels per class in the first file\n",
    "df.label.value_counts()"
   ]
  },
  {
   "cell_type": "code",
   "execution_count": 10,
   "id": "02834bb6-0930-4b46-839f-90687431b943",
   "metadata": {},
   "outputs": [
    {
     "name": "stdout",
     "output_type": "stream",
     "text": [
      "Positive labels percentage: 67.44 %\n",
      "Negative labels percentage: 13.05 %\n"
     ]
    }
   ],
   "source": [
    "#printing percentage of both labels in first file. 1 stands for positive and 0 for negative reviews\n",
    "print_label_percentages(df)"
   ]
  },
  {
   "cell_type": "code",
   "execution_count": 11,
   "id": "9ddcb9c0-f0bd-4c18-b414-d8898239b133",
   "metadata": {},
   "outputs": [
    {
     "name": "stderr",
     "output_type": "stream",
     "text": [
      "/Users/arianabritez/Documents/research-master/resit-neural-network/neural_network/utils_data_exploration.py:32: DtypeWarning: Columns (1) have mixed types. Specify dtype option on import or set low_memory=False.\n",
      "  df = pd.read_csv(file_path)\n",
      "/Users/arianabritez/Documents/research-master/resit-neural-network/neural_network/utils_data_exploration.py:32: DtypeWarning: Columns (1) have mixed types. Specify dtype option on import or set low_memory=False.\n",
      "  df = pd.read_csv(file_path)\n"
     ]
    }
   ],
   "source": [
    "#loading the rest of the datasets since the first dataset is unbalanced\n",
    "df2 = process_csv_file(file_paths[1])\n",
    "df3 = process_csv_file(file_paths[2])\n",
    "df4 = process_csv_file(file_paths[3])\n",
    "df5 = process_csv_file(file_paths[4])"
   ]
  },
  {
   "cell_type": "code",
   "execution_count": 12,
   "id": "d024a2aa-775a-47e5-963a-c68067f617e3",
   "metadata": {},
   "outputs": [
    {
     "name": "stdout",
     "output_type": "stream",
     "text": [
      "<class 'pandas.core.frame.DataFrame'>\n",
      "Index: 1094411 entries, 0 to 116261\n",
      "Data columns (total 3 columns):\n",
      " #   Column  Non-Null Count    Dtype  \n",
      "---  ------  --------------    -----  \n",
      " 0   text    1092967 non-null  object \n",
      " 1   label   926423 non-null   float64\n",
      " 2   rating  1094411 non-null  int64  \n",
      "dtypes: float64(1), int64(1), object(1)\n",
      "memory usage: 33.4+ MB\n"
     ]
    }
   ],
   "source": [
    "#checking the amount of reviews, labels and ratings across all files\n",
    "df_concat_all = pd.concat([df,df2,df3,df4,df5])\n",
    "df_concat_all.info()"
   ]
  },
  {
   "cell_type": "code",
   "execution_count": 13,
   "id": "9064d37f-0770-4ffd-8232-773699a3070a",
   "metadata": {},
   "outputs": [
    {
     "name": "stdout",
     "output_type": "stream",
     "text": [
      "For rating value 1: \n",
      " Positive label: 0.77% - count: 406 \n",
      " Negative label: 99.23% - count: 52087 \n",
      "\n",
      "For rating value 2: \n",
      " Positive label: 3.67% - count: 1660 \n",
      " Negative label: 96.33% - count: 43602 \n",
      "\n",
      "For rating value 3: \n",
      " Positive label: 35.66% - count: 25459 \n",
      " Negative label: 64.34% - count: 45936 \n",
      "\n",
      "For rating value 4: \n",
      " Positive label: 96.57% - count: 164351 \n",
      " Negative label: 3.43% - count: 5841 \n",
      "\n",
      "For rating value 5: \n",
      " Positive label: 99.86% - count: 586284 \n",
      " Negative label: 0.14% - count: 797 \n",
      "\n"
     ]
    }
   ],
   "source": [
    "#percentage of positive and negative label per rating across all files\n",
    "values = [1,2,3,4,5]\n",
    "calculate_percentage_and_count_for_values(df_concat_all, 'label', 'rating', values)"
   ]
  },
  {
   "cell_type": "code",
   "execution_count": 14,
   "id": "b8da15a3-93ae-43e8-88a4-b6d207515eb4",
   "metadata": {},
   "outputs": [
    {
     "name": "stdout",
     "output_type": "stream",
     "text": [
      "Positive labels percentage: 71.1 %\n",
      "Negative labels percentage: 13.55 %\n"
     ]
    },
    {
     "data": {
      "text/plain": [
       "label\n",
       "1.0    778160\n",
       "0.0    148263\n",
       "Name: count, dtype: int64"
      ]
     },
     "execution_count": 14,
     "metadata": {},
     "output_type": "execute_result"
    }
   ],
   "source": [
    "#percentage of labels across all files\n",
    "print_label_percentages(df_concat_all)\n",
    "df_concat_all.label.value_counts()"
   ]
  },
  {
   "cell_type": "code",
   "execution_count": 15,
   "id": "ab4c5002-ac46-4afd-905b-7434292576fc",
   "metadata": {},
   "outputs": [
    {
     "name": "stdout",
     "output_type": "stream",
     "text": [
      "Percentage counts in the filtered DataFrame:\n",
      "label\n",
      "1.0    83.996187\n",
      "0.0    16.003813\n",
      "Name: count, dtype: float64\n"
     ]
    }
   ],
   "source": [
    "# Filter to count only rows where 'your_column' is not null\n",
    "filtered_df = df_concat_all[df_concat_all['label'].notna()]\n",
    "\n",
    "# Count the occurrences of each value in 'your_column' in the filtered DataFrame\n",
    "value_counts = filtered_df['label'].value_counts()\n",
    "\n",
    "# Calculate the percentage for each value\n",
    "percentage_counts = value_counts / len(filtered_df) * 100\n",
    "\n",
    "print(\"Percentage counts in the filtered DataFrame:\")\n",
    "print(percentage_counts)"
   ]
  },
  {
   "cell_type": "code",
   "execution_count": 16,
   "id": "10f5e4da-b936-4299-bda8-1c55c2194e0e",
   "metadata": {},
   "outputs": [
    {
     "data": {
      "text/plain": [
       "label\n",
       "1.0    778160\n",
       "0.0    148263\n",
       "Name: count, dtype: int64"
      ]
     },
     "execution_count": 16,
     "metadata": {},
     "output_type": "execute_result"
    },
    {
     "data": {
      "image/png": "[encoded data removed]",
      "text/plain": [
       "<Figure size 640x480 with 1 Axes>"
      ]
     },
     "metadata": {},
     "output_type": "display_data"
    }
   ],
   "source": [
    "#visualizing the distribution of the data\n",
    "sns.countplot(x='label', data=filtered_df)\n",
    "filtered_df.loc[:, 'label'].value_counts()"
   ]
  },
  {
   "cell_type": "code",
   "execution_count": 17,
   "id": "2063d42d-de51-40e1-a52a-66c93b05ad70",
   "metadata": {},
   "outputs": [
    {
     "data": {
      "image/png": "[encoded data removed]",
      "text/plain": [
       "<Figure size 1000x600 with 1 Axes>"
      ]
     },
     "metadata": {},
     "output_type": "display_data"
    }
   ],
   "source": [
    "count_df = filtered_df.groupby(['label', 'rating']).size().reset_index(name='count')\n",
    "\n",
    "# Plot the bar plot\n",
    "plt.figure(figsize=(10, 6))\n",
    "sns.barplot(x='rating', y='count', hue='label', data=count_df, palette='viridis')\n",
    "plt.title('Distribution of Labels (0 and 1) by Ratings')\n",
    "plt.xlabel('Rating')\n",
    "plt.ylabel('Count')\n",
    "plt.show()"
   ]
  }
 ],
 "metadata": {
  "kernelspec": {
   "display_name": "Python 3 (ipykernel)",
   "language": "python",
   "name": "python3"
  },
  "language_info": {
   "codemirror_mode": {
    "name": "ipython",
    "version": 3
   },
   "file_extension": ".py",
   "mimetype": "text/x-python",
   "name": "python",
   "nbconvert_exporter": "python",
   "pygments_lexer": "ipython3",
   "version": "3.11.5"
  }
 },
 "nbformat": 4,
 "nbformat_minor": 5
}
