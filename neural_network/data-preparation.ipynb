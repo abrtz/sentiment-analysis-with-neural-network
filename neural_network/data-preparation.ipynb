{
 "cells": [
  {
   "cell_type": "markdown",
   "id": "912f18f2-375b-417b-9535-34f8b4941e39",
   "metadata": {},
   "source": [
    "# Neural Network for Sentiment Analysis"
   ]
  },
  {
   "cell_type": "markdown",
   "id": "8b872d7e-64c7-4919-a170-d95eb4d17f9a",
   "metadata": {},
   "source": [
    "## Preparing the data"
   ]
  },
  {
   "cell_type": "markdown",
   "id": "65335474-b3d5-4664-889f-6d5b6538fffd",
   "metadata": {},
   "source": [
    "Data: Sephora Products and Skincare review, found at: https://www.kaggle.com/datasets/nadyinky/sephora-products-and-skincare-reviews?resource=download\n",
    "\n",
    "Inspiration taken from the sentiment analysis task on Kaggle: \\\n",
    "https://www.kaggle.com/code/aashidutt3/sentiment-analysis-sephora-reviews \\\n",
    "last checked on Jan 23, 2024"
   ]
  },
  {
   "cell_type": "code",
   "execution_count": 1,
   "id": "e4d52e6a-f579-4f38-b1f3-deb56f63abc2",
   "metadata": {},
   "outputs": [],
   "source": [
    "import pandas as pd\n",
    "import glob\n",
    "from sklearn.utils import shuffle\n",
    "from utils_data_exploration import process_csv_file, print_label_percentages, calculate_percentage_and_count_for_values, write_df_to_file, split_and_write_data\n",
    "from utils_preprocess_data import preprocess_and_read_csv"
   ]
  },
  {
   "cell_type": "code",
   "execution_count": 4,
   "id": "17d65662-d97a-4220-97e7-2f5d4b1bd79e",
   "metadata": {},
   "outputs": [
    {
     "name": "stdout",
     "output_type": "stream",
     "text": [
      "./sephora-data/reviews_0-250.csv\n",
      "./sephora-data/reviews_1250-end.csv\n",
      "./sephora-data/reviews_750-1250.csv\n",
      "./sephora-data/reviews_250-500.csv\n",
      "./sephora-data/reviews_500-750.csv\n"
     ]
    }
   ],
   "source": [
    "#checking the amount of files in the dataset\n",
    "file_paths = []\n",
    "for filename in glob.glob('./sephora-data/reviews*'):\n",
    "    print(filename)\n",
    "    file_paths.append(filename)"
   ]
  },
  {
   "cell_type": "code",
   "execution_count": 5,
   "id": "6b50bc75-8197-4e31-a401-92e4af44114c",
   "metadata": {},
   "outputs": [
    {
     "name": "stderr",
     "output_type": "stream",
     "text": [
      "/Users/arianabritez/Documents/research-master/resit-neural-network/neural_network/utils_data_exploration.py:32: DtypeWarning: Columns (1) have mixed types. Specify dtype option on import or set low_memory=False.\n",
      "  df = pd.read_csv(file_path)\n"
     ]
    },
    {
     "name": "stdout",
     "output_type": "stream",
     "text": [
      "For rating value 1: \n",
      " Positive label: 0.91% - count: 252 \n",
      " Negative label: 99.09% - count: 27538 \n",
      "\n",
      "For rating value 2: \n",
      " Positive label: 3.67% - count: 896 \n",
      " Negative label: 96.33% - count: 23508 \n",
      "\n",
      "For rating value 3: \n",
      " Positive label: 35.35% - count: 13166 \n",
      " Negative label: 64.65% - count: 24081 \n",
      "\n",
      "For rating value 4: \n",
      " Positive label: 96.52% - count: 84007 \n",
      " Negative label: 3.48% - count: 3026 \n",
      "\n",
      "For rating value 5: \n",
      " Positive label: 99.87% - count: 307773 \n",
      " Negative label: 0.13% - count: 397 \n",
      "\n"
     ]
    }
   ],
   "source": [
    "#keeping the data that is valueable for the task of the first file\n",
    "df = process_csv_file(file_paths[0])\n",
    "#checking the distribution per rating in the unbalanced dataset\n",
    "values = [1,2,3,4,5]\n",
    "calculate_percentage_and_count_for_values(df, 'label', 'rating', values)"
   ]
  },
  {
   "cell_type": "code",
   "execution_count": 6,
   "id": "ab4c5002-ac46-4afd-905b-7434292576fc",
   "metadata": {},
   "outputs": [
    {
     "name": "stdout",
     "output_type": "stream",
     "text": [
      "label\n",
      "1.0    406094\n",
      "0.0     78550\n",
      "Name: count, dtype: int64\n",
      "Positive labels percentage: 83.79 %\n",
      "Negative labels percentage: 16.21 %\n"
     ]
    }
   ],
   "source": [
    "# Filter to count only rows where 'label' column is not null\n",
    "filtered_df = df[df['label'].notna()]\n",
    "\n",
    "# Count the occurrences of each value in 'label' in the filtered DataFrame\n",
    "value_counts = filtered_df['label'].value_counts()\n",
    "print(value_counts)\n",
    "\n",
    "# print updated percentage of both labels present\n",
    "print_label_percentages(filtered_df)"
   ]
  },
  {
   "cell_type": "markdown",
   "id": "25dd28a8-b5e7-4e19-a92a-e05fd749d496",
   "metadata": {},
   "source": [
    "## Downsizing the data"
   ]
  },
  {
   "cell_type": "code",
   "execution_count": 18,
   "id": "7499d74d-7fed-4eef-bfe4-738bc8cee6cb",
   "metadata": {},
   "outputs": [],
   "source": [
    "#downsizing the majority class but also reducing the length of the corpus for experimental purposes\n",
    "df_neg = filtered_df[filtered_df['label'] == 0].sample(25000)\n",
    "df_pos = filtered_df[filtered_df['label'] == 1].sample(len(df_neg)) #sampling a number of rows equal to the length of negative labels (df_neg)"
   ]
  },
  {
   "cell_type": "code",
   "execution_count": 19,
   "id": "0573fa01-0c91-4b48-af85-c2fc90c674df",
   "metadata": {},
   "outputs": [
    {
     "data": {
      "text/plain": [
       "label\n",
       "0.0    25000\n",
       "Name: count, dtype: int64"
      ]
     },
     "execution_count": 19,
     "metadata": {},
     "output_type": "execute_result"
    }
   ],
   "source": [
    "df_neg.label.value_counts()"
   ]
  },
  {
   "cell_type": "code",
   "execution_count": 20,
   "id": "cd917fb8-f2e8-4a83-bc78-450ecc416fce",
   "metadata": {},
   "outputs": [
    {
     "data": {
      "text/plain": [
       "label\n",
       "1.0    25000\n",
       "Name: count, dtype: int64"
      ]
     },
     "execution_count": 20,
     "metadata": {},
     "output_type": "execute_result"
    }
   ],
   "source": [
    "df_pos.label.value_counts()"
   ]
  },
  {
   "cell_type": "code",
   "execution_count": 21,
   "id": "da86de15-f7b0-4a97-988c-151e63ac0581",
   "metadata": {},
   "outputs": [
    {
     "data": {
      "text/html": [
       "<div>\n",
       "<style scoped>\n",
       "    .dataframe tbody tr th:only-of-type {\n",
       "        vertical-align: middle;\n",
       "    }\n",
       "\n",
       "    .dataframe tbody tr th {\n",
       "        vertical-align: top;\n",
       "    }\n",
       "\n",
       "    .dataframe thead th {\n",
       "        text-align: right;\n",
       "    }\n",
       "</style>\n",
       "<table border=\"1\" class=\"dataframe\">\n",
       "  <thead>\n",
       "    <tr style=\"text-align: right;\">\n",
       "      <th></th>\n",
       "      <th>text</th>\n",
       "      <th>label</th>\n",
       "      <th>rating</th>\n",
       "    </tr>\n",
       "  </thead>\n",
       "  <tbody>\n",
       "    <tr>\n",
       "      <th>388390</th>\n",
       "      <td>has helped so much reduce blackheads and pores...</td>\n",
       "      <td>1.0</td>\n",
       "      <td>5</td>\n",
       "    </tr>\n",
       "    <tr>\n",
       "      <th>55194</th>\n",
       "      <td>It’s okay, not the best. I prefer the Clinque ...</td>\n",
       "      <td>0.0</td>\n",
       "      <td>2</td>\n",
       "    </tr>\n",
       "    <tr>\n",
       "      <th>206131</th>\n",
       "      <td>Best new addition to my skin care routine this...</td>\n",
       "      <td>1.0</td>\n",
       "      <td>5</td>\n",
       "    </tr>\n",
       "    <tr>\n",
       "      <th>391555</th>\n",
       "      <td>This product goes on beautifully! It IS import...</td>\n",
       "      <td>1.0</td>\n",
       "      <td>5</td>\n",
       "    </tr>\n",
       "    <tr>\n",
       "      <th>196929</th>\n",
       "      <td>After hearing rave reviews from a couple of fr...</td>\n",
       "      <td>0.0</td>\n",
       "      <td>1</td>\n",
       "    </tr>\n",
       "  </tbody>\n",
       "</table>\n",
       "</div>"
      ],
      "text/plain": [
       "                                                     text  label  rating\n",
       "388390  has helped so much reduce blackheads and pores...    1.0       5\n",
       "55194   It’s okay, not the best. I prefer the Clinque ...    0.0       2\n",
       "206131  Best new addition to my skin care routine this...    1.0       5\n",
       "391555  This product goes on beautifully! It IS import...    1.0       5\n",
       "196929  After hearing rave reviews from a couple of fr...    0.0       1"
      ]
     },
     "execution_count": 21,
     "metadata": {},
     "output_type": "execute_result"
    }
   ],
   "source": [
    "#concatenating and shuffling to get final usable dataset\n",
    "final_df = pd.concat([df_pos, df_neg], axis = 0)\n",
    "final_df = shuffle(final_df)\n",
    "final_df.head()"
   ]
  },
  {
   "cell_type": "code",
   "execution_count": 22,
   "id": "772cc68e-1421-4b7d-bf9c-fef510e39bf4",
   "metadata": {},
   "outputs": [
    {
     "name": "stdout",
     "output_type": "stream",
     "text": [
      "Positive labels percentage: 50.0 %\n",
      "Negative labels percentage: 50.0 %\n"
     ]
    }
   ],
   "source": [
    "# print percentage of both labels present\n",
    "print_label_percentages(final_df)"
   ]
  },
  {
   "cell_type": "code",
   "execution_count": 23,
   "id": "239aa019-0ce4-45eb-9c75-fb467207c73a",
   "metadata": {},
   "outputs": [
    {
     "data": {
      "text/plain": [
       "text      95\n",
       "label      0\n",
       "rating     0\n",
       "dtype: int64"
      ]
     },
     "execution_count": 23,
     "metadata": {},
     "output_type": "execute_result"
    }
   ],
   "source": [
    "#checking if the data contains null values\n",
    "final_df.isnull().sum()"
   ]
  },
  {
   "cell_type": "code",
   "execution_count": 24,
   "id": "c44e15c6-79c5-485f-9166-79ab10e92f4a",
   "metadata": {},
   "outputs": [],
   "source": [
    "#dropping null values\n",
    "final_df = final_df.dropna()\n",
    "final_df = final_df.reset_index(drop = True)"
   ]
  },
  {
   "cell_type": "code",
   "execution_count": 25,
   "id": "27a4b17a-c502-4ede-b59c-92bcbff45803",
   "metadata": {},
   "outputs": [
    {
     "data": {
      "text/plain": [
       "text      0\n",
       "label     0\n",
       "rating    0\n",
       "dtype: int64"
      ]
     },
     "execution_count": 25,
     "metadata": {},
     "output_type": "execute_result"
    }
   ],
   "source": [
    "final_df.isnull().sum()"
   ]
  },
  {
   "cell_type": "code",
   "execution_count": 26,
   "id": "89aa92c8-2c9e-4724-ae20-75e11c351009",
   "metadata": {},
   "outputs": [
    {
     "name": "stdout",
     "output_type": "stream",
     "text": [
      "<class 'pandas.core.frame.DataFrame'>\n",
      "RangeIndex: 49905 entries, 0 to 49904\n",
      "Data columns (total 3 columns):\n",
      " #   Column  Non-Null Count  Dtype  \n",
      "---  ------  --------------  -----  \n",
      " 0   text    49905 non-null  object \n",
      " 1   label   49905 non-null  float64\n",
      " 2   rating  49905 non-null  int64  \n",
      "dtypes: float64(1), int64(1), object(1)\n",
      "memory usage: 1.1+ MB\n"
     ]
    }
   ],
   "source": [
    "final_df.info()"
   ]
  },
  {
   "cell_type": "code",
   "execution_count": 27,
   "id": "2a795fa5-ec72-49dc-88ab-7b47120f4dfc",
   "metadata": {},
   "outputs": [
    {
     "data": {
      "text/plain": [
       "label\n",
       "0.0    24954\n",
       "1.0    24951\n",
       "Name: count, dtype: int64"
      ]
     },
     "execution_count": 27,
     "metadata": {},
     "output_type": "execute_result"
    }
   ],
   "source": [
    "final_df.label.value_counts()"
   ]
  },
  {
   "cell_type": "code",
   "execution_count": 28,
   "id": "883bd4e6-8e3d-4bc3-b660-093698281687",
   "metadata": {},
   "outputs": [
    {
     "name": "stdout",
     "output_type": "stream",
     "text": [
      "For rating value 1: \n",
      " Positive label: 0.15% - count: 13 \n",
      " Negative label: 99.85% - count: 8831 \n",
      "\n",
      "For rating value 2: \n",
      " Positive label: 0.91% - count: 68 \n",
      " Negative label: 99.09% - count: 7378 \n",
      "\n",
      "For rating value 3: \n",
      " Positive label: 9.94% - count: 848 \n",
      " Negative label: 90.06% - count: 7685 \n",
      "\n",
      "For rating value 4: \n",
      " Positive label: 84.61% - count: 5185 \n",
      " Negative label: 15.39% - count: 943 \n",
      "\n",
      "For rating value 5: \n",
      " Positive label: 99.38% - count: 18837 \n",
      " Negative label: 0.62% - count: 117 \n",
      "\n"
     ]
    }
   ],
   "source": [
    "#checking the final distribution per rating in the balanced dataset\n",
    "calculate_percentage_and_count_for_values(final_df, 'label', 'rating', values)"
   ]
  },
  {
   "cell_type": "code",
   "execution_count": 29,
   "id": "29a4f93c-80ae-454d-86fc-494e46da555e",
   "metadata": {},
   "outputs": [],
   "source": [
    "#for rating 3, the majority results is negative labels ('not recommended') in the cleaned data \n",
    "#so there is no need to introduce a neutral label"
   ]
  },
  {
   "cell_type": "markdown",
   "id": "0e461b28-734d-4ebd-8e4d-4e6517249e1b",
   "metadata": {},
   "source": [
    "## Writing the final df into a smaller file for final preprocessing"
   ]
  },
  {
   "cell_type": "code",
   "execution_count": 30,
   "id": "14e74433-08ab-4b84-bf76-eb4309c1ffb2",
   "metadata": {},
   "outputs": [
    {
     "name": "stdout",
     "output_type": "stream",
     "text": [
      "df successfully written to ./sephora-data/sa-reviews_smaller.csv\n"
     ]
    }
   ],
   "source": [
    "#writing the final df into a file as the final dataset to work on this SA task\n",
    "output_file_path = './sephora-data/sa-reviews_smaller.csv'\n",
    "\n",
    "write_df_to_file(final_df, output_file_path)"
   ]
  },
  {
   "cell_type": "markdown",
   "id": "7172523b-4272-493f-99cf-c950f8b6d815",
   "metadata": {},
   "source": [
    "## Preprocessing and splitting files into training, dev and test"
   ]
  },
  {
   "cell_type": "code",
   "execution_count": 2,
   "id": "03b23def-d956-4963-a9a5-d51b1174b2eb",
   "metadata": {},
   "outputs": [
    {
     "name": "stderr",
     "output_type": "stream",
     "text": [
      "/Users/arianabritez/Documents/research-master/resit-neural-network/neural_network/utils_preprocess_data.py:38: MarkupResemblesLocatorWarning: The input looks more like a filename than markup. You may want to open this file and pass the filehandle into Beautiful Soup.\n",
      "  soup = BeautifulSoup(text, 'html.parser')\n",
      "/Users/arianabritez/Documents/research-master/resit-neural-network/neural_network/utils_preprocess_data.py:38: MarkupResemblesLocatorWarning: The input looks more like a URL than markup. You may want to use an HTTP client like requests to get the document behind the URL, and feed that document to Beautiful Soup.\n",
      "  soup = BeautifulSoup(text, 'html.parser')\n"
     ]
    }
   ],
   "source": [
    "preprocessed_df = preprocess_and_read_csv('./sephora-data/sa-reviews_smaller.csv')"
   ]
  },
  {
   "cell_type": "code",
   "execution_count": 3,
   "id": "ab84f641-99ae-4b37-b8e0-204f8fe1061b",
   "metadata": {},
   "outputs": [
    {
     "data": {
      "text/plain": [
       "text                 0\n",
       "label                0\n",
       "rating               0\n",
       "preprocessed_text    0\n",
       "dtype: int64"
      ]
     },
     "execution_count": 3,
     "metadata": {},
     "output_type": "execute_result"
    }
   ],
   "source": [
    "preprocessed_df.isnull().sum()"
   ]
  },
  {
   "cell_type": "code",
   "execution_count": 4,
   "id": "280d0f53-6443-47e9-b1d1-3eb8c8ba8f62",
   "metadata": {},
   "outputs": [
    {
     "name": "stdout",
     "output_type": "stream",
     "text": [
      "df successfully written to ./sephora-data/sa-reviews_training.csv\n",
      "df successfully written to ./sephora-data/sa-reviews_dev.csv\n",
      "df successfully written to ./sephora-data/sa-reviews_test.csv\n"
     ]
    }
   ],
   "source": [
    "# from the cleaned file, separating the training, dev and tests files for the models\n",
    "split_and_write_data(preprocessed_df,'./sephora-data/sa-reviews')"
   ]
  },
  {
   "cell_type": "code",
   "execution_count": null,
   "id": "abb39e57-5e39-43ce-b466-8e0ac47df598",
   "metadata": {},
   "outputs": [],
   "source": []
  }
 ],
 "metadata": {
  "kernelspec": {
   "display_name": "Python 3 (ipykernel)",
   "language": "python",
   "name": "python3"
  },
  "language_info": {
   "codemirror_mode": {
    "name": "ipython",
    "version": 3
   },
   "file_extension": ".py",
   "mimetype": "text/x-python",
   "name": "python",
   "nbconvert_exporter": "python",
   "pygments_lexer": "ipython3",
   "version": "3.11.5"
  }
 },
 "nbformat": 4,
 "nbformat_minor": 5
}
