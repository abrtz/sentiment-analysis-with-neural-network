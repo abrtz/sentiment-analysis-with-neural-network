{
 "cells": [
  {
   "cell_type": "markdown",
   "id": "912f18f2-375b-417b-9535-34f8b4941e39",
   "metadata": {},
   "source": [
    "# Neural Network for Sentiment Analysis"
   ]
  },
  {
   "cell_type": "markdown",
   "id": "8b872d7e-64c7-4919-a170-d95eb4d17f9a",
   "metadata": {},
   "source": [
    "# Data exploration"
   ]
  },
  {
   "cell_type": "markdown",
   "id": "65335474-b3d5-4664-889f-6d5b6538fffd",
   "metadata": {},
   "source": [
    "Data: Sephora Products and Skincare review, found at: https://www.kaggle.com/datasets/nadyinky/sephora-products-and-skincare-reviews?resource=download\n",
    "\n",
    "Inspiration taken from the sentiment analysis task on Kaggle: \\\n",
    "https://www.kaggle.com/code/aashidutt3/sentiment-analysis-sephora-reviews \\\n",
    "last checked on Jan 23, 2024"
   ]
  },
  {
   "cell_type": "code",
   "execution_count": 1,
   "id": "e4d52e6a-f579-4f38-b1f3-deb56f63abc2",
   "metadata": {},
   "outputs": [],
   "source": [
    "import pandas as pd\n",
    "import glob\n",
    "from sklearn.utils import shuffle"
   ]
  },
  {
   "cell_type": "code",
   "execution_count": 2,
   "id": "9d8ef9c8-348d-41aa-9887-1bf5a05c5b94",
   "metadata": {},
   "outputs": [],
   "source": [
    "def get_total_reviews_for_all_dataset(file_paths):\n",
    "    \"\"\"Iterate over a list of file paths and print the file path together with the total rows in it.\n",
    "    Print the total reviews across all files.\n",
    "\n",
    "    Parameter:\n",
    "    -file_paths: a Python list containing file paths in string format.\n",
    "    \"\"\"\n",
    "    total_reviews = 0\n",
    "    for file_path in file_paths:\n",
    "        df = pd.read_csv(file_path)\n",
    "        rows_in_file = df.shape[0]\n",
    "        total_reviews += rows_in_file\n",
    "        print(f\"File: {file_path}, Reviews: {rows_in_file}\")\n",
    "\n",
    "    print(\"\\nTotal reviews across all files:\", total_reviews)"
   ]
  },
  {
   "cell_type": "code",
   "execution_count": 3,
   "id": "e5d8d0c3-b0dc-487e-a841-86d29752e091",
   "metadata": {},
   "outputs": [],
   "source": [
    "def process_csv_file(file_path):\n",
    "    \"\"\"Take the path to a csv file as an argument as a string, \n",
    "    read it with pandas and keep the following columns that are valuable for the task:\n",
    "    -'review_text', rename to 'text'\n",
    "    -'is_recommended', rename to 'label'\n",
    "    -'rating', name stays unchanged.\n",
    "    Return the DataFrame containing these three columns.\n",
    "    \n",
    "    Parameter:\n",
    "    -file_path: path to a csv file.\"\"\"\n",
    "    \n",
    "    #reading the csv file into a DataFrame with pandas\n",
    "    df = pd.read_csv(file_path)\n",
    "\n",
    "    #selecting the columns that are valuable for the task\n",
    "    df = df[['review_text', 'is_recommended', 'rating']]\n",
    "\n",
    "    #renaming the columns\n",
    "    df.rename(columns={'is_recommended': 'label', 'review_text': 'text'}, inplace=True)\n",
    "\n",
    "    return df"
   ]
  },
  {
   "cell_type": "code",
   "execution_count": 4,
   "id": "56bc62bf-4f8e-43c8-af13-509d2a71f053",
   "metadata": {},
   "outputs": [],
   "source": [
    "def print_label_percentages(df):\n",
    "    \"\"\"Take a DataFrame (df) as an argument and\n",
    "    prints the percentage of positive and negative labels in it.\"\"\"\n",
    "    \n",
    "    positive_percentage = round(df['label'].value_counts()[1] / len(df) * 100, 2)\n",
    "    negative_percentage = round(df['label'].value_counts()[0] / len(df) * 100, 2)\n",
    "\n",
    "    print(\"Positive labels percentage:\", positive_percentage, \"%\")\n",
    "    print(\"Negative labels percentage:\", negative_percentage, \"%\")"
   ]
  },
  {
   "cell_type": "code",
   "execution_count": 5,
   "id": "1cb448d2-d8a6-4d63-905d-99348df10d34",
   "metadata": {},
   "outputs": [],
   "source": [
    "def calculate_percentage_and_count_for_values(df, target_column, condition_column, values):\n",
    "    \"\"\"Calculate and print the percentages and counts for a list of specified values in a DataFrame.\n",
    "\n",
    "    Parameters:\n",
    "    - df: a pandas DataFrame\n",
    "    - target_column: the name of the column for which to calculate the percentage in the df, provided as Python string\n",
    "    - condition_column: the name of the column containing the condition for filtering, provided as Python string\n",
    "    - values: a list of values to filter and calculate the percentages and counts in the df\n",
    "\n",
    "    Returns None.\n",
    "    Print the percentage and counts of the specified values.\"\"\"\n",
    "    \n",
    "    for value in values:\n",
    "        # filtering the df based on the condition\n",
    "        filtered_df = df[df[condition_column] == value]\n",
    "\n",
    "        # calculate positive and negative percentages\n",
    "        positive_percentage = round(filtered_df[target_column].value_counts(normalize=True)[1] * 100, 2)\n",
    "        negative_percentage = round(filtered_df[target_column].value_counts(normalize=True)[0] * 100, 2)\n",
    "\n",
    "        # getting the counts\n",
    "        positive_count = filtered_df[target_column].value_counts()[1]\n",
    "        negative_count = filtered_df[target_column].value_counts()[0]\n",
    "\n",
    "        print(f\"\"\"For {condition_column} value {value}: \\n Positive {target_column}: {positive_percentage}% - count: {positive_count} \\n Negative {target_column}: {negative_percentage}% - count: {negative_count} \\n\"\"\")"
   ]
  },
  {
   "cell_type": "code",
   "execution_count": 6,
   "id": "82ed90fe-c158-4985-9a83-1191ba2c599d",
   "metadata": {},
   "outputs": [],
   "source": [
    "def write_df_to_file(df, file_path, index=False):\n",
    "    \"\"\"Write a pandas DataFrame to a csv file.\n",
    "\n",
    "    Parameters:\n",
    "    - dataframe: pandas DataFrame\n",
    "    - file_path: path to the output file in string format\n",
    "    - index: whether to include the index in the output file as Boolean (default is False)\n",
    "    \"\"\"\n",
    "    df.to_csv(file_path, index=index)\n",
    "    print(f\"df successfully written to {file_path}\")"
   ]
  },
  {
   "cell_type": "code",
   "execution_count": 7,
   "id": "17d65662-d97a-4220-97e7-2f5d4b1bd79e",
   "metadata": {},
   "outputs": [
    {
     "name": "stdout",
     "output_type": "stream",
     "text": [
      "./sephora-data/reviews_0-250.csv\n",
      "./sephora-data/reviews_1250-end.csv\n",
      "./sephora-data/reviews_750-1250.csv\n",
      "./sephora-data/reviews_250-500.csv\n",
      "./sephora-data/reviews_500-750.csv\n"
     ]
    }
   ],
   "source": [
    "#checking the amount of files in the dataset\n",
    "file_paths = []\n",
    "for filename in glob.glob('./sephora-data/reviews*'):\n",
    "    print(filename)\n",
    "    file_paths.append(filename)"
   ]
  },
  {
   "cell_type": "code",
   "execution_count": 8,
   "id": "33abb6f7-d5ad-4b30-9a47-d84926ed5435",
   "metadata": {},
   "outputs": [
    {
     "name": "stderr",
     "output_type": "stream",
     "text": [
      "/var/folders/c3/6b53cyc56hdcsrh90312r_1w0000gn/T/ipykernel_3032/138876499.py:10: DtypeWarning: Columns (1) have mixed types. Specify dtype option on import or set low_memory=False.\n",
      "  df = pd.read_csv(file_path)\n"
     ]
    },
    {
     "name": "stdout",
     "output_type": "stream",
     "text": [
      "File: ./sephora-data/reviews_0-250.csv, Reviews: 602130\n"
     ]
    },
    {
     "name": "stderr",
     "output_type": "stream",
     "text": [
      "/var/folders/c3/6b53cyc56hdcsrh90312r_1w0000gn/T/ipykernel_3032/138876499.py:10: DtypeWarning: Columns (1) have mixed types. Specify dtype option on import or set low_memory=False.\n",
      "  df = pd.read_csv(file_path)\n"
     ]
    },
    {
     "name": "stdout",
     "output_type": "stream",
     "text": [
      "File: ./sephora-data/reviews_1250-end.csv, Reviews: 49977\n"
     ]
    },
    {
     "name": "stderr",
     "output_type": "stream",
     "text": [
      "/var/folders/c3/6b53cyc56hdcsrh90312r_1w0000gn/T/ipykernel_3032/138876499.py:10: DtypeWarning: Columns (1) have mixed types. Specify dtype option on import or set low_memory=False.\n",
      "  df = pd.read_csv(file_path)\n"
     ]
    },
    {
     "name": "stdout",
     "output_type": "stream",
     "text": [
      "File: ./sephora-data/reviews_750-1250.csv, Reviews: 119317\n",
      "File: ./sephora-data/reviews_250-500.csv, Reviews: 206725\n",
      "File: ./sephora-data/reviews_500-750.csv, Reviews: 116262\n",
      "\n",
      "Total reviews across all files: 1094411\n"
     ]
    }
   ],
   "source": [
    "get_total_reviews_for_all_dataset(file_paths)"
   ]
  },
  {
   "cell_type": "code",
   "execution_count": 9,
   "id": "99da1134-9c9b-4b65-b6c4-a505f2720cf4",
   "metadata": {},
   "outputs": [
    {
     "name": "stderr",
     "output_type": "stream",
     "text": [
      "/var/folders/c3/6b53cyc56hdcsrh90312r_1w0000gn/T/ipykernel_3032/1527436970.py:2: DtypeWarning: Columns (1) have mixed types. Specify dtype option on import or set low_memory=False.\n",
      "  df = pd.read_csv(file_paths[0])\n"
     ]
    }
   ],
   "source": [
    "#reading the first file with pandas\n",
    "df = pd.read_csv(file_paths[0])"
   ]
  },
  {
   "cell_type": "code",
   "execution_count": 10,
   "id": "3a2d0de1-3a4a-4ae2-b5ac-92c69404d91d",
   "metadata": {},
   "outputs": [
    {
     "data": {
      "text/plain": [
       "(602130, 19)"
      ]
     },
     "execution_count": 10,
     "metadata": {},
     "output_type": "execute_result"
    }
   ],
   "source": [
    "df.shape"
   ]
  },
  {
   "cell_type": "code",
   "execution_count": 11,
   "id": "bc20eb4b-b320-4df2-bf3a-e654110e6834",
   "metadata": {},
   "outputs": [
    {
     "data": {
      "text/html": [
       "<div>\n",
       "<style scoped>\n",
       "    .dataframe tbody tr th:only-of-type {\n",
       "        vertical-align: middle;\n",
       "    }\n",
       "\n",
       "    .dataframe tbody tr th {\n",
       "        vertical-align: top;\n",
       "    }\n",
       "\n",
       "    .dataframe thead th {\n",
       "        text-align: right;\n",
       "    }\n",
       "</style>\n",
       "<table border=\"1\" class=\"dataframe\">\n",
       "  <thead>\n",
       "    <tr style=\"text-align: right;\">\n",
       "      <th></th>\n",
       "      <th>Unnamed: 0</th>\n",
       "      <th>author_id</th>\n",
       "      <th>rating</th>\n",
       "      <th>is_recommended</th>\n",
       "      <th>helpfulness</th>\n",
       "      <th>total_feedback_count</th>\n",
       "      <th>total_neg_feedback_count</th>\n",
       "      <th>total_pos_feedback_count</th>\n",
       "      <th>submission_time</th>\n",
       "      <th>review_text</th>\n",
       "      <th>review_title</th>\n",
       "      <th>skin_tone</th>\n",
       "      <th>eye_color</th>\n",
       "      <th>skin_type</th>\n",
       "      <th>hair_color</th>\n",
       "      <th>product_id</th>\n",
       "      <th>product_name</th>\n",
       "      <th>brand_name</th>\n",
       "      <th>price_usd</th>\n",
       "    </tr>\n",
       "  </thead>\n",
       "  <tbody>\n",
       "    <tr>\n",
       "      <th>0</th>\n",
       "      <td>0</td>\n",
       "      <td>1741593524</td>\n",
       "      <td>5</td>\n",
       "      <td>1.0</td>\n",
       "      <td>1.0</td>\n",
       "      <td>2</td>\n",
       "      <td>0</td>\n",
       "      <td>2</td>\n",
       "      <td>2023-02-01</td>\n",
       "      <td>I use this with the Nudestix “Citrus Clean Bal...</td>\n",
       "      <td>Taught me how to double cleanse!</td>\n",
       "      <td>NaN</td>\n",
       "      <td>brown</td>\n",
       "      <td>dry</td>\n",
       "      <td>black</td>\n",
       "      <td>P504322</td>\n",
       "      <td>Gentle Hydra-Gel Face Cleanser</td>\n",
       "      <td>NUDESTIX</td>\n",
       "      <td>19.0</td>\n",
       "    </tr>\n",
       "    <tr>\n",
       "      <th>1</th>\n",
       "      <td>1</td>\n",
       "      <td>31423088263</td>\n",
       "      <td>1</td>\n",
       "      <td>0.0</td>\n",
       "      <td>NaN</td>\n",
       "      <td>0</td>\n",
       "      <td>0</td>\n",
       "      <td>0</td>\n",
       "      <td>2023-03-21</td>\n",
       "      <td>I bought this lip mask after reading the revie...</td>\n",
       "      <td>Disappointed</td>\n",
       "      <td>NaN</td>\n",
       "      <td>NaN</td>\n",
       "      <td>NaN</td>\n",
       "      <td>NaN</td>\n",
       "      <td>P420652</td>\n",
       "      <td>Lip Sleeping Mask Intense Hydration with Vitam...</td>\n",
       "      <td>LANEIGE</td>\n",
       "      <td>24.0</td>\n",
       "    </tr>\n",
       "    <tr>\n",
       "      <th>2</th>\n",
       "      <td>2</td>\n",
       "      <td>5061282401</td>\n",
       "      <td>5</td>\n",
       "      <td>1.0</td>\n",
       "      <td>NaN</td>\n",
       "      <td>0</td>\n",
       "      <td>0</td>\n",
       "      <td>0</td>\n",
       "      <td>2023-03-21</td>\n",
       "      <td>My review title says it all! I get so excited ...</td>\n",
       "      <td>New Favorite Routine</td>\n",
       "      <td>light</td>\n",
       "      <td>brown</td>\n",
       "      <td>dry</td>\n",
       "      <td>blonde</td>\n",
       "      <td>P420652</td>\n",
       "      <td>Lip Sleeping Mask Intense Hydration with Vitam...</td>\n",
       "      <td>LANEIGE</td>\n",
       "      <td>24.0</td>\n",
       "    </tr>\n",
       "    <tr>\n",
       "      <th>3</th>\n",
       "      <td>3</td>\n",
       "      <td>6083038851</td>\n",
       "      <td>5</td>\n",
       "      <td>1.0</td>\n",
       "      <td>NaN</td>\n",
       "      <td>0</td>\n",
       "      <td>0</td>\n",
       "      <td>0</td>\n",
       "      <td>2023-03-20</td>\n",
       "      <td>I’ve always loved this formula for a long time...</td>\n",
       "      <td>Can't go wrong with any of them</td>\n",
       "      <td>NaN</td>\n",
       "      <td>brown</td>\n",
       "      <td>combination</td>\n",
       "      <td>black</td>\n",
       "      <td>P420652</td>\n",
       "      <td>Lip Sleeping Mask Intense Hydration with Vitam...</td>\n",
       "      <td>LANEIGE</td>\n",
       "      <td>24.0</td>\n",
       "    </tr>\n",
       "    <tr>\n",
       "      <th>4</th>\n",
       "      <td>4</td>\n",
       "      <td>47056667835</td>\n",
       "      <td>5</td>\n",
       "      <td>1.0</td>\n",
       "      <td>NaN</td>\n",
       "      <td>0</td>\n",
       "      <td>0</td>\n",
       "      <td>0</td>\n",
       "      <td>2023-03-20</td>\n",
       "      <td>If you have dry cracked lips, this is a must h...</td>\n",
       "      <td>A must have !!!</td>\n",
       "      <td>light</td>\n",
       "      <td>hazel</td>\n",
       "      <td>combination</td>\n",
       "      <td>NaN</td>\n",
       "      <td>P420652</td>\n",
       "      <td>Lip Sleeping Mask Intense Hydration with Vitam...</td>\n",
       "      <td>LANEIGE</td>\n",
       "      <td>24.0</td>\n",
       "    </tr>\n",
       "  </tbody>\n",
       "</table>\n",
       "</div>"
      ],
      "text/plain": [
       "   Unnamed: 0    author_id  rating  is_recommended  helpfulness  \\\n",
       "0           0   1741593524       5             1.0          1.0   \n",
       "1           1  31423088263       1             0.0          NaN   \n",
       "2           2   5061282401       5             1.0          NaN   \n",
       "3           3   6083038851       5             1.0          NaN   \n",
       "4           4  47056667835       5             1.0          NaN   \n",
       "\n",
       "   total_feedback_count  total_neg_feedback_count  total_pos_feedback_count  \\\n",
       "0                     2                         0                         2   \n",
       "1                     0                         0                         0   \n",
       "2                     0                         0                         0   \n",
       "3                     0                         0                         0   \n",
       "4                     0                         0                         0   \n",
       "\n",
       "  submission_time                                        review_text  \\\n",
       "0      2023-02-01  I use this with the Nudestix “Citrus Clean Bal...   \n",
       "1      2023-03-21  I bought this lip mask after reading the revie...   \n",
       "2      2023-03-21  My review title says it all! I get so excited ...   \n",
       "3      2023-03-20  I’ve always loved this formula for a long time...   \n",
       "4      2023-03-20  If you have dry cracked lips, this is a must h...   \n",
       "\n",
       "                       review_title skin_tone eye_color    skin_type  \\\n",
       "0  Taught me how to double cleanse!       NaN     brown          dry   \n",
       "1                      Disappointed       NaN       NaN          NaN   \n",
       "2              New Favorite Routine     light     brown          dry   \n",
       "3   Can't go wrong with any of them       NaN     brown  combination   \n",
       "4                   A must have !!!     light     hazel  combination   \n",
       "\n",
       "  hair_color product_id                                       product_name  \\\n",
       "0      black    P504322                     Gentle Hydra-Gel Face Cleanser   \n",
       "1        NaN    P420652  Lip Sleeping Mask Intense Hydration with Vitam...   \n",
       "2     blonde    P420652  Lip Sleeping Mask Intense Hydration with Vitam...   \n",
       "3      black    P420652  Lip Sleeping Mask Intense Hydration with Vitam...   \n",
       "4        NaN    P420652  Lip Sleeping Mask Intense Hydration with Vitam...   \n",
       "\n",
       "  brand_name  price_usd  \n",
       "0   NUDESTIX       19.0  \n",
       "1    LANEIGE       24.0  \n",
       "2    LANEIGE       24.0  \n",
       "3    LANEIGE       24.0  \n",
       "4    LANEIGE       24.0  "
      ]
     },
     "execution_count": 11,
     "metadata": {},
     "output_type": "execute_result"
    }
   ],
   "source": [
    "df.head()"
   ]
  },
  {
   "cell_type": "code",
   "execution_count": 12,
   "id": "6b50bc75-8197-4e31-a401-92e4af44114c",
   "metadata": {},
   "outputs": [
    {
     "name": "stderr",
     "output_type": "stream",
     "text": [
      "/var/folders/c3/6b53cyc56hdcsrh90312r_1w0000gn/T/ipykernel_3032/1285989741.py:13: DtypeWarning: Columns (1) have mixed types. Specify dtype option on import or set low_memory=False.\n",
      "  df = pd.read_csv(file_path)\n"
     ]
    },
    {
     "data": {
      "text/html": [
       "<div>\n",
       "<style scoped>\n",
       "    .dataframe tbody tr th:only-of-type {\n",
       "        vertical-align: middle;\n",
       "    }\n",
       "\n",
       "    .dataframe tbody tr th {\n",
       "        vertical-align: top;\n",
       "    }\n",
       "\n",
       "    .dataframe thead th {\n",
       "        text-align: right;\n",
       "    }\n",
       "</style>\n",
       "<table border=\"1\" class=\"dataframe\">\n",
       "  <thead>\n",
       "    <tr style=\"text-align: right;\">\n",
       "      <th></th>\n",
       "      <th>text</th>\n",
       "      <th>label</th>\n",
       "      <th>rating</th>\n",
       "    </tr>\n",
       "  </thead>\n",
       "  <tbody>\n",
       "    <tr>\n",
       "      <th>0</th>\n",
       "      <td>I use this with the Nudestix “Citrus Clean Bal...</td>\n",
       "      <td>1.0</td>\n",
       "      <td>5</td>\n",
       "    </tr>\n",
       "    <tr>\n",
       "      <th>1</th>\n",
       "      <td>I bought this lip mask after reading the revie...</td>\n",
       "      <td>0.0</td>\n",
       "      <td>1</td>\n",
       "    </tr>\n",
       "    <tr>\n",
       "      <th>2</th>\n",
       "      <td>My review title says it all! I get so excited ...</td>\n",
       "      <td>1.0</td>\n",
       "      <td>5</td>\n",
       "    </tr>\n",
       "    <tr>\n",
       "      <th>3</th>\n",
       "      <td>I’ve always loved this formula for a long time...</td>\n",
       "      <td>1.0</td>\n",
       "      <td>5</td>\n",
       "    </tr>\n",
       "    <tr>\n",
       "      <th>4</th>\n",
       "      <td>If you have dry cracked lips, this is a must h...</td>\n",
       "      <td>1.0</td>\n",
       "      <td>5</td>\n",
       "    </tr>\n",
       "  </tbody>\n",
       "</table>\n",
       "</div>"
      ],
      "text/plain": [
       "                                                text  label  rating\n",
       "0  I use this with the Nudestix “Citrus Clean Bal...    1.0       5\n",
       "1  I bought this lip mask after reading the revie...    0.0       1\n",
       "2  My review title says it all! I get so excited ...    1.0       5\n",
       "3  I’ve always loved this formula for a long time...    1.0       5\n",
       "4  If you have dry cracked lips, this is a must h...    1.0       5"
      ]
     },
     "execution_count": 12,
     "metadata": {},
     "output_type": "execute_result"
    }
   ],
   "source": [
    "#keeping the data that is valueable for the task\n",
    "df = process_csv_file(file_paths[0])\n",
    "df.head()"
   ]
  },
  {
   "cell_type": "code",
   "execution_count": 13,
   "id": "d0e3ecea-277c-4c4a-b3be-ba8c84b62adf",
   "metadata": {},
   "outputs": [
    {
     "name": "stdout",
     "output_type": "stream",
     "text": [
      "<class 'pandas.core.frame.DataFrame'>\n",
      "RangeIndex: 602130 entries, 0 to 602129\n",
      "Data columns (total 3 columns):\n",
      " #   Column  Non-Null Count   Dtype  \n",
      "---  ------  --------------   -----  \n",
      " 0   text    601131 non-null  object \n",
      " 1   label   484644 non-null  float64\n",
      " 2   rating  602130 non-null  int64  \n",
      "dtypes: float64(1), int64(1), object(1)\n",
      "memory usage: 13.8+ MB\n"
     ]
    }
   ],
   "source": [
    "#checking the count of reviews, labels and rating in the first file\n",
    "df.info()"
   ]
  },
  {
   "cell_type": "code",
   "execution_count": 14,
   "id": "95a092fa-4307-4041-affc-1b89f878c7db",
   "metadata": {},
   "outputs": [
    {
     "data": {
      "text/plain": [
       "label\n",
       "1.0    406094\n",
       "0.0     78550\n",
       "Name: count, dtype: int64"
      ]
     },
     "execution_count": 14,
     "metadata": {},
     "output_type": "execute_result"
    }
   ],
   "source": [
    "#checking the amount of labels per class in the first file\n",
    "df.label.value_counts()"
   ]
  },
  {
   "cell_type": "code",
   "execution_count": 15,
   "id": "02834bb6-0930-4b46-839f-90687431b943",
   "metadata": {},
   "outputs": [
    {
     "name": "stdout",
     "output_type": "stream",
     "text": [
      "Positive labels percentage: 67.44 %\n",
      "Negative labels percentage: 13.05 %\n"
     ]
    }
   ],
   "source": [
    "#printing percentage of both labels in first file. 1 stands for positive and 0 for negative reviews\n",
    "print_label_percentages(df)"
   ]
  },
  {
   "cell_type": "code",
   "execution_count": 16,
   "id": "e4fff2e6-53e1-43c1-8a71-8cf49ca5e174",
   "metadata": {},
   "outputs": [
    {
     "name": "stdout",
     "output_type": "stream",
     "text": [
      "For rating value 1: \n",
      " Positive label: 0.91% - count: 252 \n",
      " Negative label: 99.09% - count: 27538 \n",
      "\n",
      "For rating value 2: \n",
      " Positive label: 3.67% - count: 896 \n",
      " Negative label: 96.33% - count: 23508 \n",
      "\n",
      "For rating value 3: \n",
      " Positive label: 35.35% - count: 13166 \n",
      " Negative label: 64.65% - count: 24081 \n",
      "\n",
      "For rating value 4: \n",
      " Positive label: 96.52% - count: 84007 \n",
      " Negative label: 3.48% - count: 3026 \n",
      "\n",
      "For rating value 5: \n",
      " Positive label: 99.87% - count: 307773 \n",
      " Negative label: 0.13% - count: 397 \n",
      "\n"
     ]
    }
   ],
   "source": [
    "#checking the distribution per rating in the unbalanced dataset\n",
    "values = [1,2,3,4,5]\n",
    "calculate_percentage_and_count_for_values(df, 'label', 'rating', values)"
   ]
  },
  {
   "cell_type": "code",
   "execution_count": 17,
   "id": "ab4c5002-ac46-4afd-905b-7434292576fc",
   "metadata": {},
   "outputs": [
    {
     "name": "stdout",
     "output_type": "stream",
     "text": [
      "label\n",
      "1.0    406094\n",
      "0.0     78550\n",
      "Name: count, dtype: int64\n",
      "Positive labels percentage: 83.79 %\n",
      "Negative labels percentage: 16.21 %\n"
     ]
    }
   ],
   "source": [
    "# Filter to count only rows where 'label' column is not null\n",
    "filtered_df = df[df['label'].notna()]\n",
    "\n",
    "# Count the occurrences of each value in 'label' in the filtered DataFrame\n",
    "value_counts = filtered_df['label'].value_counts()\n",
    "print(value_counts)\n",
    "\n",
    "# print updated percentage of both labels present\n",
    "print_label_percentages(filtered_df)"
   ]
  },
  {
   "cell_type": "markdown",
   "id": "25dd28a8-b5e7-4e19-a92a-e05fd749d496",
   "metadata": {},
   "source": [
    "## Preparing the data"
   ]
  },
  {
   "cell_type": "code",
   "execution_count": 18,
   "id": "7499d74d-7fed-4eef-bfe4-738bc8cee6cb",
   "metadata": {},
   "outputs": [],
   "source": [
    "#downsizing the majority class but also reducing the length of the corpus for experimental purposes\n",
    "df_neg = filtered_df[filtered_df['label'] == 0].sample(25000)\n",
    "df_pos = filtered_df[filtered_df['label'] == 1].sample(len(df_neg)) #sampling a number of rows equal to the length of negative labels (df_neg)"
   ]
  },
  {
   "cell_type": "code",
   "execution_count": 19,
   "id": "0573fa01-0c91-4b48-af85-c2fc90c674df",
   "metadata": {},
   "outputs": [
    {
     "data": {
      "text/plain": [
       "label\n",
       "0.0    25000\n",
       "Name: count, dtype: int64"
      ]
     },
     "execution_count": 19,
     "metadata": {},
     "output_type": "execute_result"
    }
   ],
   "source": [
    "df_neg.label.value_counts()"
   ]
  },
  {
   "cell_type": "code",
   "execution_count": 20,
   "id": "cd917fb8-f2e8-4a83-bc78-450ecc416fce",
   "metadata": {},
   "outputs": [
    {
     "data": {
      "text/plain": [
       "label\n",
       "1.0    25000\n",
       "Name: count, dtype: int64"
      ]
     },
     "execution_count": 20,
     "metadata": {},
     "output_type": "execute_result"
    }
   ],
   "source": [
    "df_pos.label.value_counts()"
   ]
  },
  {
   "cell_type": "code",
   "execution_count": 21,
   "id": "da86de15-f7b0-4a97-988c-151e63ac0581",
   "metadata": {},
   "outputs": [
    {
     "data": {
      "text/html": [
       "<div>\n",
       "<style scoped>\n",
       "    .dataframe tbody tr th:only-of-type {\n",
       "        vertical-align: middle;\n",
       "    }\n",
       "\n",
       "    .dataframe tbody tr th {\n",
       "        vertical-align: top;\n",
       "    }\n",
       "\n",
       "    .dataframe thead th {\n",
       "        text-align: right;\n",
       "    }\n",
       "</style>\n",
       "<table border=\"1\" class=\"dataframe\">\n",
       "  <thead>\n",
       "    <tr style=\"text-align: right;\">\n",
       "      <th></th>\n",
       "      <th>text</th>\n",
       "      <th>label</th>\n",
       "      <th>rating</th>\n",
       "    </tr>\n",
       "  </thead>\n",
       "  <tbody>\n",
       "    <tr>\n",
       "      <th>388390</th>\n",
       "      <td>has helped so much reduce blackheads and pores...</td>\n",
       "      <td>1.0</td>\n",
       "      <td>5</td>\n",
       "    </tr>\n",
       "    <tr>\n",
       "      <th>55194</th>\n",
       "      <td>It’s okay, not the best. I prefer the Clinque ...</td>\n",
       "      <td>0.0</td>\n",
       "      <td>2</td>\n",
       "    </tr>\n",
       "    <tr>\n",
       "      <th>206131</th>\n",
       "      <td>Best new addition to my skin care routine this...</td>\n",
       "      <td>1.0</td>\n",
       "      <td>5</td>\n",
       "    </tr>\n",
       "    <tr>\n",
       "      <th>391555</th>\n",
       "      <td>This product goes on beautifully! It IS import...</td>\n",
       "      <td>1.0</td>\n",
       "      <td>5</td>\n",
       "    </tr>\n",
       "    <tr>\n",
       "      <th>196929</th>\n",
       "      <td>After hearing rave reviews from a couple of fr...</td>\n",
       "      <td>0.0</td>\n",
       "      <td>1</td>\n",
       "    </tr>\n",
       "  </tbody>\n",
       "</table>\n",
       "</div>"
      ],
      "text/plain": [
       "                                                     text  label  rating\n",
       "388390  has helped so much reduce blackheads and pores...    1.0       5\n",
       "55194   It’s okay, not the best. I prefer the Clinque ...    0.0       2\n",
       "206131  Best new addition to my skin care routine this...    1.0       5\n",
       "391555  This product goes on beautifully! It IS import...    1.0       5\n",
       "196929  After hearing rave reviews from a couple of fr...    0.0       1"
      ]
     },
     "execution_count": 21,
     "metadata": {},
     "output_type": "execute_result"
    }
   ],
   "source": [
    "#concatenating and shuffling to get final usable dataset\n",
    "final_df = pd.concat([df_pos, df_neg], axis = 0)\n",
    "final_df = shuffle(final_df)\n",
    "final_df.head()"
   ]
  },
  {
   "cell_type": "code",
   "execution_count": 22,
   "id": "772cc68e-1421-4b7d-bf9c-fef510e39bf4",
   "metadata": {},
   "outputs": [
    {
     "name": "stdout",
     "output_type": "stream",
     "text": [
      "Positive labels percentage: 50.0 %\n",
      "Negative labels percentage: 50.0 %\n"
     ]
    }
   ],
   "source": [
    "# print percentage of both labels present\n",
    "print_label_percentages(final_df)"
   ]
  },
  {
   "cell_type": "code",
   "execution_count": 23,
   "id": "239aa019-0ce4-45eb-9c75-fb467207c73a",
   "metadata": {},
   "outputs": [
    {
     "data": {
      "text/plain": [
       "text      95\n",
       "label      0\n",
       "rating     0\n",
       "dtype: int64"
      ]
     },
     "execution_count": 23,
     "metadata": {},
     "output_type": "execute_result"
    }
   ],
   "source": [
    "#checking if the data contains null values\n",
    "final_df.isnull().sum()"
   ]
  },
  {
   "cell_type": "code",
   "execution_count": 24,
   "id": "c44e15c6-79c5-485f-9166-79ab10e92f4a",
   "metadata": {},
   "outputs": [],
   "source": [
    "#dropping null values\n",
    "final_df = final_df.dropna()\n",
    "final_df = final_df.reset_index(drop = True)"
   ]
  },
  {
   "cell_type": "code",
   "execution_count": 25,
   "id": "27a4b17a-c502-4ede-b59c-92bcbff45803",
   "metadata": {},
   "outputs": [
    {
     "data": {
      "text/plain": [
       "text      0\n",
       "label     0\n",
       "rating    0\n",
       "dtype: int64"
      ]
     },
     "execution_count": 25,
     "metadata": {},
     "output_type": "execute_result"
    }
   ],
   "source": [
    "final_df.isnull().sum()"
   ]
  },
  {
   "cell_type": "code",
   "execution_count": 26,
   "id": "89aa92c8-2c9e-4724-ae20-75e11c351009",
   "metadata": {},
   "outputs": [
    {
     "name": "stdout",
     "output_type": "stream",
     "text": [
      "<class 'pandas.core.frame.DataFrame'>\n",
      "RangeIndex: 49905 entries, 0 to 49904\n",
      "Data columns (total 3 columns):\n",
      " #   Column  Non-Null Count  Dtype  \n",
      "---  ------  --------------  -----  \n",
      " 0   text    49905 non-null  object \n",
      " 1   label   49905 non-null  float64\n",
      " 2   rating  49905 non-null  int64  \n",
      "dtypes: float64(1), int64(1), object(1)\n",
      "memory usage: 1.1+ MB\n"
     ]
    }
   ],
   "source": [
    "final_df.info()"
   ]
  },
  {
   "cell_type": "code",
   "execution_count": 27,
   "id": "2a795fa5-ec72-49dc-88ab-7b47120f4dfc",
   "metadata": {},
   "outputs": [
    {
     "data": {
      "text/plain": [
       "label\n",
       "0.0    24954\n",
       "1.0    24951\n",
       "Name: count, dtype: int64"
      ]
     },
     "execution_count": 27,
     "metadata": {},
     "output_type": "execute_result"
    }
   ],
   "source": [
    "final_df.label.value_counts()"
   ]
  },
  {
   "cell_type": "code",
   "execution_count": 28,
   "id": "883bd4e6-8e3d-4bc3-b660-093698281687",
   "metadata": {},
   "outputs": [
    {
     "name": "stdout",
     "output_type": "stream",
     "text": [
      "For rating value 1: \n",
      " Positive label: 0.15% - count: 13 \n",
      " Negative label: 99.85% - count: 8831 \n",
      "\n",
      "For rating value 2: \n",
      " Positive label: 0.91% - count: 68 \n",
      " Negative label: 99.09% - count: 7378 \n",
      "\n",
      "For rating value 3: \n",
      " Positive label: 9.94% - count: 848 \n",
      " Negative label: 90.06% - count: 7685 \n",
      "\n",
      "For rating value 4: \n",
      " Positive label: 84.61% - count: 5185 \n",
      " Negative label: 15.39% - count: 943 \n",
      "\n",
      "For rating value 5: \n",
      " Positive label: 99.38% - count: 18837 \n",
      " Negative label: 0.62% - count: 117 \n",
      "\n"
     ]
    }
   ],
   "source": [
    "#checking the final distribution per rating in the balanced dataset\n",
    "calculate_percentage_and_count_for_values(final_df, 'label', 'rating', values)"
   ]
  },
  {
   "cell_type": "code",
   "execution_count": 29,
   "id": "29a4f93c-80ae-454d-86fc-494e46da555e",
   "metadata": {},
   "outputs": [],
   "source": [
    "#for rating 3, the majority results is negative labels ('not recommended') in the cleaned data \n",
    "#so there is no need to introduce a neutral label"
   ]
  },
  {
   "cell_type": "code",
   "execution_count": 30,
   "id": "14e74433-08ab-4b84-bf76-eb4309c1ffb2",
   "metadata": {},
   "outputs": [
    {
     "name": "stdout",
     "output_type": "stream",
     "text": [
      "df successfully written to ./sephora-data/sa-reviews_smaller.csv\n"
     ]
    }
   ],
   "source": [
    "#writing the final df into a file as the final dataset to work on this SA task\n",
    "output_file_path = './sephora-data/sa-reviews_smaller.csv'\n",
    "\n",
    "write_df_to_file(final_df, output_file_path)"
   ]
  },
  {
   "cell_type": "code",
   "execution_count": null,
   "id": "280d0f53-6443-47e9-b1d1-3eb8c8ba8f62",
   "metadata": {},
   "outputs": [],
   "source": []
  }
 ],
 "metadata": {
  "kernelspec": {
   "display_name": "Python 3 (ipykernel)",
   "language": "python",
   "name": "python3"
  },
  "language_info": {
   "codemirror_mode": {
    "name": "ipython",
    "version": 3
   },
   "file_extension": ".py",
   "mimetype": "text/x-python",
   "name": "python",
   "nbconvert_exporter": "python",
   "pygments_lexer": "ipython3",
   "version": "3.11.5"
  }
 },
 "nbformat": 4,
 "nbformat_minor": 5
}
