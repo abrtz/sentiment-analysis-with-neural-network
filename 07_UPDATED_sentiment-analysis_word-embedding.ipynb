{
 "cells": [
  {
   "cell_type": "markdown",
   "id": "912f18f2-375b-417b-9535-34f8b4941e39",
   "metadata": {},
   "source": [
    "# Neural Network for Sentiment Analysis"
   ]
  },
  {
   "cell_type": "markdown",
   "id": "e05b3af8-c076-4c40-a39f-6420423542e7",
   "metadata": {},
   "source": [
    "## Experimenting with word embeddings"
   ]
  },
  {
   "cell_type": "code",
   "execution_count": 2,
   "id": "e4d52e6a-f579-4f38-b1f3-deb56f63abc2",
   "metadata": {},
   "outputs": [],
   "source": [
    "import numpy as np \n",
    "import pandas as pd\n",
    "from bs4 import BeautifulSoup\n",
    "import string\n",
    "import re\n",
    "import nltk\n",
    "from nltk.corpus import wordnet\n",
    "from nltk.stem import WordNetLemmatizer\n",
    "from nltk.corpus import stopwords\n",
    "from sklearn.feature_extraction.text import CountVectorizer\n",
    "from sklearn.model_selection import train_test_split\n",
    "import time\n",
    "import datetime\n",
    "from sklearn.metrics import classification_report, confusion_matrix, ConfusionMatrixDisplay\n",
    "import seaborn as sns\n",
    "from itertools import product\n",
    "# scipy.special for the sigmoid function expit()\n",
    "import scipy.special\n",
    "# library for plotting arrays\n",
    "import matplotlib.pyplot\n",
    "# ensure the plots are inside this notebook, not an external window\n",
    "%matplotlib inline"
   ]
  },
  {
   "cell_type": "markdown",
   "id": "9b83938b-48ad-451b-9a2b-4738d7ecc469",
   "metadata": {},
   "source": [
    "## Text Preprocessing"
   ]
  },
  {
   "cell_type": "code",
   "execution_count": 3,
   "id": "80d52130-3fe5-45f2-a446-490eb636a7e7",
   "metadata": {},
   "outputs": [],
   "source": [
    "def get_wordnet_pos(tag):\n",
    "    \"\"\"Take a POS tag and return the corresponding WordNet POS tag.\n",
    "\n",
    "    Parameter:\n",
    "    -tag: a POS tag.\n",
    "    \"\"\"\n",
    "    \n",
    "    if tag.startswith('N'):\n",
    "        return wordnet.NOUN\n",
    "    elif tag.startswith('V'):\n",
    "        return wordnet.VERB\n",
    "    elif tag.startswith('R'):\n",
    "        return wordnet.ADV\n",
    "    elif tag.startswith('J'):\n",
    "        return wordnet.ADJ\n",
    "    else:\n",
    "        return wordnet.NOUN  # Default to noun if the POS is not recognized"
   ]
  },
  {
   "cell_type": "code",
   "execution_count": 4,
   "id": "212cfaf9-dcff-442c-af83-d3a673897ce3",
   "metadata": {},
   "outputs": [],
   "source": [
    "def preprocess_text(text,remove_digits=True):\n",
    "    \"\"\"Read a csv file and clean the text by removing html string using the BeautifulSoup library.\n",
    "    Apply tokenization and lemmatization.\n",
    "    Return the df with the preprocessed text in the respective column.\n",
    "    \n",
    "    Parameters:\n",
    "    -reviews_file: path to a csv file containing the final reviews, provided as a Python string.\n",
    "    -text_column: name of the column in the csv file where the reviews are stored, provided as a Python string.\n",
    "    \"\"\"\n",
    "    \n",
    "    #removing HTML tags using BeautifulSoup\n",
    "    soup = BeautifulSoup(text, 'html.parser')\n",
    "    text = soup.get_text()\n",
    "\n",
    "    #removing square brackets\n",
    "    text = re.sub('\\[[^]]*\\]', '', text)\n",
    "    \n",
    "    #removing special characters\n",
    "    if remove_digits:\n",
    "        text = re.sub('[^a-zA-Z\\s]', '', text)\n",
    "    else:\n",
    "        text = re.sub('[^a-zA-Z0-9\\s]', '', text)\n",
    "    \n",
    "    #lowercasing the text\n",
    "    text = text.lower()\n",
    "\n",
    "    #tokenization with NLTK\n",
    "    tokens = nltk.word_tokenize(text)\n",
    "\n",
    "    #removing stop words\n",
    "    stop_words = set(stopwords.words('english'))\n",
    "    tokens = [word for word in tokens if word not in stop_words]\n",
    "\n",
    "    #lemmatization with POS tagging\n",
    "    lemmatizer = WordNetLemmatizer()\n",
    "    pos_tags = nltk.pos_tag(tokens) #applying the NLTK POS tags to tokens\n",
    "    lemmatized_tokens = [lemmatizer.lemmatize(token, pos=get_wordnet_pos(pos_tag)) for token, pos_tag in pos_tags] #lemmatizing each token based on its POS\n",
    "    lemmatized_text = ' '.join(lemmatized_tokens)  #joining lemmatized tokens back into a single string\n",
    "\n",
    "    return lemmatized_text\n",
    "\n",
    "###part of the code as seen on https://www.kaggle.com/code/aashidutt3/sentiment-analysis-sephora-reviews/notebook on Jan 23rd"
   ]
  },
  {
   "cell_type": "code",
   "execution_count": 5,
   "id": "97370fe0-902b-4b5f-bfff-abfd67fb48e2",
   "metadata": {},
   "outputs": [
    {
     "name": "stderr",
     "output_type": "stream",
     "text": [
      "/var/folders/c3/6b53cyc56hdcsrh90312r_1w0000gn/T/ipykernel_9959/1671045480.py:12: MarkupResemblesLocatorWarning: The input looks more like a filename than markup. You may want to open this file and pass the filehandle into Beautiful Soup.\n",
      "  soup = BeautifulSoup(text, 'html.parser')\n",
      "/var/folders/c3/6b53cyc56hdcsrh90312r_1w0000gn/T/ipykernel_9959/1671045480.py:12: MarkupResemblesLocatorWarning: The input looks more like a URL than markup. You may want to use an HTTP client like requests to get the document behind the URL, and feed that document to Beautiful Soup.\n",
      "  soup = BeautifulSoup(text, 'html.parser')\n"
     ]
    }
   ],
   "source": [
    "output_file_path = './sephora-data/sa-reviews_smaller.csv'\n",
    "text_column = 'text'\n",
    "\n",
    "# reading the csv file into a DataFrame with pandas\n",
    "df = pd.read_csv(output_file_path)\n",
    "# applying the preprocessing function to the text column\n",
    "df[text_column] = df[text_column].apply(preprocess_text)"
   ]
  },
  {
   "cell_type": "markdown",
   "id": "76b8004b-60ec-4cd7-850e-645987feea97",
   "metadata": {},
   "source": [
    "## Splitting Data into Train and Test"
   ]
  },
  {
   "cell_type": "code",
   "execution_count": 6,
   "id": "e7b27fd1-26dd-493d-8abf-8b4ef61510ea",
   "metadata": {},
   "outputs": [],
   "source": [
    "def plot_sentence_length_histogram(data, bins=30):\n",
    "    \"\"\"\n",
    "    Plot a histogram of sentence lengths in words for the given dataset.\n",
    "    Return the pandas Series containing the lengths of words in sentences.\n",
    "\n",
    "    Parameters:\n",
    "    - data: list or series of text reviews in the dataset, as a pandas df format.\n",
    "    - bins: number of bins for the histogram, the default is set to 30. The higher the number, the more detailed view of the distribution.\n",
    "    \"\"\"\n",
    "    \n",
    "    pd_histogram = pd.Series([len(review.split()) for review in data])\n",
    "    \n",
    "    # plotting the histogram\n",
    "    fig, ax = matplotlib.pyplot.subplots()\n",
    "    sns.histplot(pd_histogram, bins=bins, ax=ax)\n",
    "    ax.set_xlabel(\"Sentences length\")\n",
    "    \n",
    "    # displaying summary statistics\n",
    "    print(pd_histogram.describe())\n",
    "    \n",
    "    return pd_histogram\n",
    "    \n",
    "### code for plotting sentence length as seen at https://www.kaggle.com/code/themeeemul/sephora-eda-and-sentiment-analysis-using-pytorch/notebook on 30th Jan 2024"
   ]
  },
  {
   "cell_type": "code",
   "execution_count": 7,
   "id": "333027a6-6542-4009-aa18-2677110a14ce",
   "metadata": {},
   "outputs": [],
   "source": [
    "# Split data into training and test sets\n",
    "reviews_tr, reviews_test, gold_labels_tr, gold_labels_test = train_test_split(df['text'], # the text column with all the reviews in the df\n",
    "                                                                                    df['label'], # the labels for all the data\n",
    "                                                                                    test_size = 0.20 # we use 80% for training and 20% for test\n",
    "                                                                                   )\n",
    "\n",
    "# Split data into training and dev sets\n",
    "reviews_train, reviews_dev, gold_labels_train, gold_labels_dev = train_test_split(reviews_tr, # the text column with the reviews in the reduced df resulting from the split above\n",
    "                                                                                    gold_labels_tr, # the labels for training data resulting from the split above\n",
    "                                                                                    test_size = 0.20 # we use 80% for training and 20% for development\n",
    "                                                                                   )"
   ]
  },
  {
   "cell_type": "code",
   "execution_count": 8,
   "id": "f2f5e52b-5ac6-4cd7-b8e6-94e83d561456",
   "metadata": {},
   "outputs": [
    {
     "name": "stdout",
     "output_type": "stream",
     "text": [
      "Training texts: 31939\n",
      "Training labels: 31939\n",
      "Test texts: 9981\n",
      "Test labels: 9981\n",
      "Development texts: 7985\n",
      "Development labels: 7985\n"
     ]
    }
   ],
   "source": [
    "print(\"Training texts:\", len(reviews_train))\n",
    "print(\"Training labels:\", len(gold_labels_train))\n",
    "print(\"Test texts:\", len(reviews_test))\n",
    "print(\"Test labels:\", len(gold_labels_test))\n",
    "print(\"Development texts:\", len(reviews_dev))\n",
    "print(\"Development labels:\", len(gold_labels_dev))"
   ]
  },
  {
   "cell_type": "code",
   "execution_count": 9,
   "id": "cd658993-0c02-4abe-8d0b-4e6fe77fa580",
   "metadata": {},
   "outputs": [
    {
     "name": "stdout",
     "output_type": "stream",
     "text": [
      "count    31939.000000\n",
      "mean        29.292151\n",
      "std         20.602007\n",
      "min          0.000000\n",
      "25%         16.000000\n",
      "50%         24.000000\n",
      "75%         37.000000\n",
      "max        200.000000\n",
      "dtype: float64\n",
      "0    19\n",
      "1    55\n",
      "2    37\n",
      "3    74\n",
      "4    19\n",
      "dtype: int64\n"
     ]
    },
    {
     "name": "stderr",
     "output_type": "stream",
     "text": [
      "/Users/arianabritez/anaconda3/lib/python3.11/site-packages/seaborn/_oldcore.py:1119: FutureWarning: use_inf_as_na option is deprecated and will be removed in a future version. Convert inf values to NaN before operating instead.\n",
      "  with pd.option_context('mode.use_inf_as_na', True):\n"
     ]
    },
    {
     "data": {
      "image/png": "[encoded data removed]",
      "text/plain": [
       "<Figure size 640x480 with 1 Axes>"
      ]
     },
     "metadata": {},
     "output_type": "display_data"
    }
   ],
   "source": [
    "#checking the average length in words in the reviews text under training split\n",
    "pd_histogram = plot_sentence_length_histogram(reviews_train)\n",
    "print(pd_histogram.head())"
   ]
  },
  {
   "cell_type": "markdown",
   "id": "650440cc-b253-48ae-b144-e8e06c6a8788",
   "metadata": {},
   "source": [
    "## NN input preprocessing"
   ]
  },
  {
   "cell_type": "code",
   "execution_count": 10,
   "id": "8810b6c5-a42f-493a-81c2-5cdbdfc8ebb6",
   "metadata": {},
   "outputs": [],
   "source": [
    "def read_word_embbedding(file_name):\n",
    "    \"\"\"Read a GloVe txt file containing pre-trained word embeddings with 6B tokens and 50 dimensions.\n",
    "    Return the Python set of unique words and the word-to-vector Python dictionary.\n",
    "\n",
    "    Parameters:\n",
    "    -'file_name': the path to the txt file storing the GloVe pre-trained embeddings.\"\"\"\n",
    "    \n",
    "    with open(file_name,'r') as f:\n",
    "        word_vocab = set() # not using list to avoid duplicate entry\n",
    "        word2vector = {}\n",
    "        for line in f:\n",
    "            line = line.strip() #removing white spaces\n",
    "            words_vec = line.split() #spliting the line into a list of word and vectors.\n",
    "            word_vocab.add(words_vec[0]) #adding the first element of words_vec (the word) to the word_vocab set.\n",
    "            word2vector[words_vec[0]] = np.array(words_vec[1:],dtype=float) #making a np array from the vector components of words_vec which is the value of the word in the word2vector dictionary\n",
    "    print(\"Total Words in DataSet:\",len(word_vocab))\n",
    "    return word_vocab,word2vector\n",
    "\n",
    "### code as seen in https://www.kaggle.com/code/adepvenugopal/nlp-word-embedding-using-glove-vector on Jan 30th"
   ]
  },
  {
   "cell_type": "code",
   "execution_count": 11,
   "id": "664a383a-4d30-4bd9-a047-16590ba6d099",
   "metadata": {},
   "outputs": [],
   "source": [
    "def training_data_to_word_index_sequences(reviews_train, min_df=300):\n",
    "    \"\"\"\n",
    "    Tokenize and preprocess training text data using CountVectorizer and applying padding.\n",
    "    Return the padded sequence vectors for the training data and a dictionary mapping words to indices.\n",
    "    \n",
    "    Parameters:\n",
    "    - reviews_train: list of training sentences.\n",
    "    - min_df: minimum frequency of a token to be considered, default set to 300.\n",
    "    \"\"\"\n",
    "    X_train_sequences = [] #empty list where the sequences of word indices per sentence will be stored\n",
    "    \n",
    "    #tokenization with CountVectorizer,  if a token appears fewer times than stated, it will be ignored\n",
    "    vectorizer = CountVectorizer(min_df=min_df)\n",
    "\n",
    "    #fit and transform the training data\n",
    "    X_train_counts = vectorizer.fit_transform(reviews_train)\n",
    "\n",
    "    #getting the vocabulary and creating a mapping of words to indices\n",
    "    vocab = vectorizer.vocabulary_\n",
    "    word_to_index = {word: index for index, word in enumerate(vocab.keys())}\n",
    "\n",
    "    #converting sentences to sequences for training data\n",
    "    for sentence in reviews_train:\n",
    "        word_indices = [word_to_index[word] for word in nltk.word_tokenize(sentence) if word in word_to_index] #tokenizing each sentence in the training data into sequences of word indices\n",
    "        X_train_sequences.append(word_indices) #append the sequence of word indices for a sentence to the sequence list\n",
    "\n",
    "    return X_train_sequences, word_to_index"
   ]
  },
  {
   "cell_type": "code",
   "execution_count": 31,
   "id": "380caf2f-d387-4128-a453-3975ea80f7c9",
   "metadata": {},
   "outputs": [],
   "source": [
    "def dev_test_data_to_word_index_sequences(reviews_dev_test, word_to_index):\n",
    "    \"\"\"\n",
    "    Tokenize and preprocess dev/test data using precomputed word-to-index mapping.\n",
    "    Return the padded sequence vectors for the dev/test data.\n",
    "    \n",
    "    Parameters:\n",
    "    - reviews_dev_test: list of dev/test sentences.\n",
    "    - word_to_index: a dictionary mapping words to indices.\n",
    "    \"\"\"\n",
    "    X_dev_test_sequences = [] #empty list where the sequences of word indices per sentence will be stored\n",
    "    \n",
    "    #converting sentences to sequences for dev/test data\n",
    "    for sentence in reviews_dev_test:\n",
    "        word_indices = [word_to_index[word] for word in nltk.word_tokenize(sentence) if word in word_to_index] #tokenizing each sentence in the data into sequences of word indices\n",
    "        X_dev_test_sequences.append(word_indices) #append the sequence of word indices for a sentence to the sequence list\n",
    "\n",
    "    return X_dev_test_sequences\n",
    "    "
   ]
  },
  {
   "cell_type": "code",
   "execution_count": 13,
   "id": "3624c1a6-2988-48ef-a8ac-964186b2e378",
   "metadata": {},
   "outputs": [],
   "source": [
    "def initialize_embedding_matrix(word_to_index, w2v, embedding_dim=50):\n",
    "    \"\"\"\n",
    "    Initialize an embedding matrix with pre-trained embeddings.\n",
    "    Return a 2-dimensional numpy array representing the embedding matrix.\n",
    "\n",
    "    Parameters:\n",
    "    - word_to_index: a dictionary mapping words to their indices in the vocabulary.\n",
    "    - w2v: a dictionary of pre-trained word embeddings.\n",
    "    - embedding_dim: the dimension of the word embeddings.\n",
    "    \"\"\"\n",
    "    \n",
    "    #initializing embedding matrix with zeros- - each row corresponds to a word in the vocabulary\n",
    "    embedding_matrix = np.zeros((len(word_to_index), embedding_dim))\n",
    "\n",
    "    #filling embedding matrix with pre-trained embeddings\n",
    "    #if a word in the vocabulary is present in the pre-trained embeddings, its embedding is used; otherwise, the corresponding row remains filled with zeros\n",
    "    for word, index in word_to_index.items():\n",
    "        if word in w2v:\n",
    "            embedding_matrix[index] = w2v[word]\n",
    "\n",
    "    return embedding_matrix"
   ]
  },
  {
   "cell_type": "code",
   "execution_count": 14,
   "id": "3a52d479-f1ba-4ba6-811d-63498068b3f9",
   "metadata": {},
   "outputs": [],
   "source": [
    "def embed_and_pad_sequences(sequences, embedding_matrix, max_len):\n",
    "    \"\"\"\n",
    "    Embed and pad sequences using a pre-trained embedding matrix.\n",
    "    Return a 2-dimensional numpy array representing the embedded and padded sequences with the shape: number of sequences, max_len * embedding dimension\n",
    "    \n",
    "    Parameters:\n",
    "    - sequences: a list of sequences, where each sequence is a list of word indices.\n",
    "    - embedding_matrix: a 2D numpy array representing the pre-trained word embedding matrix.\n",
    "    - max_len: the maximum length of the vector to pad sequences.\n",
    "    \"\"\"\n",
    "    \n",
    "    #initializing an empty list to store padded and embedded sequences\n",
    "    padded_embedded_sequences = []\n",
    "\n",
    "    #iterating over each sequence\n",
    "    for sequence in sequences:\n",
    "        #initializing an empty list to store embeddings for each word in the sequence\n",
    "        embedded_sequence = []\n",
    "        \n",
    "        #iterating over each word index in the sequence\n",
    "        for word_index in sequence:\n",
    "            #getting the pre-trained embedding from the embedding matrix\n",
    "            embedding_vector = embedding_matrix[word_index]\n",
    "            #appending the embedding vector for each word to the embedded sequence\n",
    "            embedded_sequence.append(embedding_vector)\n",
    "\n",
    "        #padding the embedded sequence to the length fixed in max_len\n",
    "        padded_sequence = embedded_sequence + [np.zeros(embedding_matrix.shape[1])] * (max_len - len(embedded_sequence))\n",
    "\n",
    "        #appending the padded and embedded sequence to the list of padded sequences\n",
    "        padded_embedded_sequences.append(padded_sequence)\n",
    "\n",
    "    #converting the list of padded and embedded sequences to a numpy array\n",
    "    embedded_array = np.array([seq[:max_len] for seq in padded_embedded_sequences])\n",
    "\n",
    "    #reshaping the 3D array (with the rows of the size of the data, the length of padded vector and the dimensions of the word embeddings) to a 2D array\n",
    "    #resulting in a vector of shape: (rows of the size of the data, length of padded vector * the dimensions of the word embeddings)\n",
    "    #in final vector each row corresponds to a sequence of word embeddings, and the columns represent the flattened embedding vectors for each word in the sequence\n",
    "    embedded_flat_array = embedded_array.reshape((embedded_array.shape[0], -1))\n",
    "    \n",
    "    return embedded_flat_array"
   ]
  },
  {
   "cell_type": "code",
   "execution_count": 15,
   "id": "1b9e780c-1b9c-41bd-a62b-643284e0d8ed",
   "metadata": {},
   "outputs": [
    {
     "name": "stdout",
     "output_type": "stream",
     "text": [
      "Total Words in DataSet: 400000\n"
     ]
    }
   ],
   "source": [
    "#reading and loading the word embedding vector with 50 dimensions\n",
    "vocab, w2v = read_word_embbedding(\"./glove6b50dtxt/glove.6B.50d.txt\")"
   ]
  },
  {
   "cell_type": "code",
   "execution_count": 16,
   "id": "ab130bb8-e130-4682-9ee3-fb1fb482284e",
   "metadata": {},
   "outputs": [],
   "source": [
    "#preprocessing to pad sequences in both training and dev data\n",
    "max_len=35\n",
    "X_train_seq, word_to_index = training_data_to_word_index_sequences(reviews_train)\n",
    "X_dev_seq = dev_test_data_to_word_index_sequences(reviews_dev,word_to_index)\n",
    "embedding_matrix = initialize_embedding_matrix(word_to_index, w2v)\n",
    "X_train_embedded = embed_and_pad_sequences(X_train_seq, embedding_matrix, max_len)\n",
    "X_dev_embedded = embed_and_pad_sequences(X_dev_seq, embedding_matrix, max_len)"
   ]
  },
  {
   "cell_type": "markdown",
   "id": "7d4d4c55-d4af-456f-a64b-b58c81503464",
   "metadata": {},
   "source": [
    "## Building the Neural Network"
   ]
  },
  {
   "cell_type": "code",
   "execution_count": 17,
   "id": "89d565c7-0bd8-4457-94f6-2444ea2be2de",
   "metadata": {},
   "outputs": [],
   "source": [
    "# neural network class definition\n",
    "class neuralNetwork:\n",
    "    \n",
    "    # initialise the neural network\n",
    "    def __init__(self, inputnodes, hiddennodes, outputnodes, learningrate):\n",
    "        #set the number of nodes in each input, hidden, output layer\n",
    "        self.inodes = inputnodes\n",
    "        self.hnodes = hiddennodes\n",
    "        self.onodes = outputnodes\n",
    "\n",
    "        # link weight matrices, wih and who\n",
    "        # weights inside the arrays are w_i_j, where link is from node i to nodej in the next layer\n",
    "        # w11 w21\n",
    "        # w12 w22 etc\n",
    "        #self.wih = (numpy.random.rand(self.hnodes, self.inodes) - 0.5) ##random initialization\n",
    "        #self.who = (numpy.random.rand(self.onodes, self.hnodes) - 0.5)\n",
    "        self.wih = np.random.normal(0.0, pow(self.hnodes, -0.5),(self.hnodes, self.inodes))\n",
    "        self.who = np.random.normal(0.0, pow(self.onodes, -0.5),(self.onodes, self.hnodes))\n",
    "        \n",
    "        #learning rate\n",
    "        self.lr = learningrate\n",
    "        \n",
    "        # activation function is the sigmoid function\n",
    "        self.activation_function = lambda x: scipy.special.expit(x)\n",
    "\n",
    "        pass\n",
    "        \n",
    "    # train the neural network\n",
    "    def train(self, inputs_list, targets_list):\n",
    "        # convert inputs list to 2d array\n",
    "        inputs = np.array(inputs_list, ndmin=2).T\n",
    "        targets = np.array(targets_list, ndmin=2).T\n",
    "\n",
    "        #calculate signals into hidden layer\n",
    "        hidden_inputs = np.dot(self.wih, inputs)\n",
    "        # calculate the signals emerging from hidden layer\n",
    "        hidden_outputs = self.activation_function(hidden_inputs)\n",
    "\n",
    "        # calculate signals into final output layer\n",
    "        final_inputs = np.dot(self.who, hidden_outputs)\n",
    "        # calculate the signals emerging from final output layer\n",
    "        final_outputs = self.activation_function(final_inputs)\n",
    "\n",
    "        # output layer error is the (target - actual)\n",
    "        output_errors = targets - final_outputs\n",
    "        # hidden layer error is the output_errors, split by weights, recombined at hidden nodes\n",
    "        hidden_errors = np.dot(self.who.T, output_errors)\n",
    "\n",
    "        # update the weights for the links between the hidden and output layers\n",
    "        self.who += self.lr * np.dot((output_errors * final_outputs * (1.0 - final_outputs)), np.transpose(hidden_outputs))\n",
    "\n",
    "        # update the weights for the links between the input and hidden layers\n",
    "        self.wih += self.lr * np.dot((hidden_errors * hidden_outputs * (1.0 - hidden_outputs)), np.transpose(inputs))\n",
    "        \n",
    "        pass\n",
    "        \n",
    "    # query the neural network\n",
    "    def query(self, inputs_list):\n",
    "        # convert inputs list to 2d array\n",
    "        inputs = np.array(inputs_list, ndmin=2).T                                \n",
    "        \n",
    "        # calculate signals into hidden layer\n",
    "        hidden_inputs = np.dot(self.wih, inputs)\n",
    "        # calculate the signals emerging from hidden layer\n",
    "        hidden_outputs = self.activation_function(hidden_inputs)\n",
    "\n",
    "        # calculate signals into final output layer\n",
    "        final_inputs = np.dot(self.who, hidden_outputs)\n",
    "        # calculate the signals emerging from final output layer\n",
    "        final_outputs = self.activation_function(final_inputs)\n",
    "        \n",
    "        return final_outputs\n"
   ]
  },
  {
   "cell_type": "code",
   "execution_count": 18,
   "id": "8813383e-a484-415b-a6a3-3179f7a5b969",
   "metadata": {},
   "outputs": [],
   "source": [
    "# number of input, hidden and output nodes\n",
    "input_nodes = X_train_embedded.shape[1] #this is the size of the features - the length of the embedded padded vector\n",
    "hidden_nodes = 300\n",
    "output_nodes = 30\n",
    "\n",
    "# learning rate\n",
    "learning_rate = 0.15\n",
    "\n",
    "# create instance of neural network\n",
    "n = neuralNetwork(input_nodes,hidden_nodes,output_nodes, learning_rate)"
   ]
  },
  {
   "cell_type": "markdown",
   "id": "570bc692-ffa5-4c78-96db-08d574d6c3b0",
   "metadata": {},
   "source": [
    "## Training the NN"
   ]
  },
  {
   "cell_type": "code",
   "execution_count": 19,
   "id": "0e88548e-bd6f-407c-864e-444ea8810c43",
   "metadata": {},
   "outputs": [],
   "source": [
    "def format_time(elapsed):\n",
    "    '''\n",
    "    Takes a time in seconds and returns a string hh:mm:ss\n",
    "    '''\n",
    "    # Round to the nearest second.\n",
    "    elapsed_rounded = int(round((elapsed)))\n",
    "    \n",
    "    # Format as hh:mm:ss\n",
    "    return str(datetime.timedelta(seconds=elapsed_rounded))\n",
    "\n",
    "###code taken from https://www.kaggle.com/code/themeeemul/sephora-eda-and-sentiment-analysis-using-pytorch/notebook on 26th Jan - useful to print how long the epochs take"
   ]
  },
  {
   "cell_type": "code",
   "execution_count": 20,
   "id": "7d5386fd-5149-41c2-b491-06f56a9ece73",
   "metadata": {},
   "outputs": [],
   "source": [
    "def min_max_scale(embedding_vector, min_val=0.01, max_val=1.0):\n",
    "    \"\"\"Calculate the minimum and maximum values in the input vector and scale each embedding to fit the specified range. \n",
    "    Return a scaled embeding vector.\n",
    "    \n",
    "    Parameters:\n",
    "    -embedding_vector: a 2-dimensional numpy array representing the embedded and padded sequences in the data with the shape: number of sequences, max_len * embedding dimension.\n",
    "    -min_val: float specifying the minimum value of the scaled range, default value is 0.01.\n",
    "    -max_val: float specifying the maximum value of the scaled range, default value is 1.0.\n",
    "    \"\"\"\n",
    "\n",
    "    #getting the minimum and maximum values in the vector\n",
    "    min_embedding = np.min(embedding_vector) \n",
    "    max_embedding = np.max(embedding_vector)\n",
    "\n",
    "    #scaling each element of the input vector using the min-max scaling formula\n",
    "    scaled_embedding = min_val + (max_val - min_val) * (embedding_vector - min_embedding) / (max_embedding - min_embedding)\n",
    "\n",
    "    return scaled_embedding"
   ]
  },
  {
   "cell_type": "code",
   "execution_count": 21,
   "id": "1ca489a0-319b-4d05-b7b6-bed06e9ee7a4",
   "metadata": {},
   "outputs": [],
   "source": [
    "def train_nn(nn, reviews_train, gold_labels_train, epochs):\n",
    "    \"\"\"\n",
    "    Train a neural network with the provided training dataset and gold labels.\n",
    "    Return None.\n",
    "\n",
    "    Parameters:\n",
    "    - nn: an instance of the neural network class\n",
    "    - reviews_train: the training dataset (features)\n",
    "    - gold_labels_train: the training gold labels\n",
    "    - epochs: number of times the training data set is ran for training\n",
    "    \"\"\"\n",
    "    \n",
    "    output_nodes = nn.onodes  #number of output nodes in the nn\n",
    "\n",
    "    scaled_embedding = min_max_scale(reviews_train)\n",
    "    \n",
    "    for epoch in range(epochs):\n",
    "        # Measure how long the training epoch takes.\n",
    "        t0 = time.time()\n",
    "        \n",
    "        #iterating over each training instance\n",
    "        for array, (index, value) in zip(scaled_embedding, gold_labels_train.items()):\n",
    "            inputs = array\n",
    "\n",
    "            # creating the target output values (all 0.01, except the desired label which is 0.99)\n",
    "            targets = np.zeros(output_nodes) + 0.01\n",
    "            #the value of the label is the target label for this record\n",
    "            targets[int(value)] = 0.99\n",
    "\n",
    "            #training the neural network\n",
    "            nn.train(inputs, targets)\n",
    "            \n",
    "        # Measure elapsed time for the epoch.\n",
    "        elapsed_time = time.time() - t0\n",
    "\n",
    "        # Print the epoch training time.\n",
    "        print(f\"Epoch {epoch + 1}/{epochs}, Elapsed Time: {format_time(elapsed_time)}\")"
   ]
  },
  {
   "cell_type": "code",
   "execution_count": 22,
   "id": "2ce59459-ae7c-44f1-8eeb-ceb2a9571dc6",
   "metadata": {},
   "outputs": [],
   "source": [
    "def test_nn(nn, data_test, g_labels_test):\n",
    "    \"\"\"\n",
    "    Test a neural network with the test or development data for validation.\n",
    "    Return the classification report with the error metrics and print the confusion matrix.\n",
    "\n",
    "    Parameters:\n",
    "    - nn: an instance of the neural network class\n",
    "    - data_test: the test or dev dataset (features)\n",
    "    - g_labels_test: the test or dev labels\n",
    "\n",
    "    Print classification report with error metrics: precision, recall, F1 and accuracy.\n",
    "    Plot the confusion matrix.\n",
    "    \"\"\"\n",
    "    \n",
    "    labels = ['0','1']\n",
    "    human_labels_test = []\n",
    "    system_labels_pred = []\n",
    "\n",
    "    scaled_embedding = min_max_scale(data_test)\n",
    "    \n",
    "    # go through all the records in the test/dev data set\n",
    "    for array, (index, value) in zip(scaled_embedding, g_labels_test.items()):\n",
    "        inputs = array\n",
    "        # correct answer is the first value\n",
    "        correct_label = int(value)\n",
    "        human_labels_test.append(str(correct_label))\n",
    "\n",
    "        # query the network\n",
    "        outputs = nn.query(inputs)\n",
    "        # the index of the highest value corresponds to the predicted label\n",
    "        predicted_label = np.argmax(outputs)\n",
    "\n",
    "        # append correct or incorrect to the scorecard\n",
    "        if predicted_label == correct_label:\n",
    "            # network's answer matches correct answer, add 1 to scorecard\n",
    "            system_labels_pred.append('1')\n",
    "        else:\n",
    "            # network's answer doesn't match correct answer, add 0 to scorecard\n",
    "            system_labels_pred.append('0')\n",
    "\n",
    "    report = classification_report(human_labels_test, system_labels_pred, digits = 2, target_names = labels)\n",
    "    cf_matrix = confusion_matrix(human_labels_test, system_labels_pred)\n",
    "    display = ConfusionMatrixDisplay(confusion_matrix=cf_matrix, display_labels=labels)\n",
    "    print(report)\n",
    "    print(cf_matrix)\n",
    "    display.plot()"
   ]
  },
  {
   "cell_type": "code",
   "execution_count": 22,
   "id": "669ddf41-2a11-4de7-a54f-1c443e1d993f",
   "metadata": {},
   "outputs": [
    {
     "name": "stdout",
     "output_type": "stream",
     "text": [
      "Epoch 1/5, Elapsed Time: 0:01:05\n",
      "Epoch 2/5, Elapsed Time: 0:01:24\n",
      "Epoch 3/5, Elapsed Time: 0:01:29\n",
      "Epoch 4/5, Elapsed Time: 0:01:16\n",
      "Epoch 5/5, Elapsed Time: 0:01:17\n"
     ]
    }
   ],
   "source": [
    "#max_count = X_train_embedded_flat.max()\n",
    "train_nn(n, X_train_embedded, gold_labels_train, epochs=5)"
   ]
  },
  {
   "cell_type": "code",
   "execution_count": 23,
   "id": "c30dfa86-7614-46ed-a0b0-e87b83bdf01a",
   "metadata": {},
   "outputs": [
    {
     "name": "stdout",
     "output_type": "stream",
     "text": [
      "              precision    recall  f1-score   support\n",
      "\n",
      "           0       0.99      0.95      0.97      3998\n",
      "           1       0.95      0.99      0.97      3987\n",
      "\n",
      "    accuracy                           0.97      7985\n",
      "   macro avg       0.97      0.97      0.97      7985\n",
      "weighted avg       0.97      0.97      0.97      7985\n",
      "\n",
      "[[3781  217]\n",
      " [  20 3967]]\n"
     ]
    },
    {
     "data": {
      "image/png": "[encoded data removed]",
      "text/plain": [
       "<Figure size 640x480 with 2 Axes>"
      ]
     },
     "metadata": {},
     "output_type": "display_data"
    }
   ],
   "source": [
    "test_nn(n, X_dev_embedded, gold_labels_dev)"
   ]
  },
  {
   "cell_type": "markdown",
   "id": "43dfbdee-28c1-4363-b84b-c25cee4778c7",
   "metadata": {},
   "source": [
    "## Evaluation on test dataset"
   ]
  },
  {
   "cell_type": "code",
   "execution_count": 28,
   "id": "89f59f26-30af-4ab9-aacf-73581eabeebe",
   "metadata": {},
   "outputs": [],
   "source": [
    "#preprocessing to pad sequences in test data\n",
    "max_len=35\n",
    "X_test_seq = dev_test_data_to_word_index_sequences(reviews_test,word_to_index)\n",
    "X_test_embedded = embed_and_pad_sequences(X_test_seq, embedding_matrix, max_len)"
   ]
  },
  {
   "cell_type": "code",
   "execution_count": 29,
   "id": "a751251a-e109-47e5-bb27-9fdcdbf5729b",
   "metadata": {},
   "outputs": [
    {
     "name": "stdout",
     "output_type": "stream",
     "text": [
      "              precision    recall  f1-score   support\n",
      "\n",
      "           0       0.99      0.94      0.97      5029\n",
      "           1       0.94      0.99      0.97      4952\n",
      "\n",
      "    accuracy                           0.97      9981\n",
      "   macro avg       0.97      0.97      0.97      9981\n",
      "weighted avg       0.97      0.97      0.97      9981\n",
      "\n",
      "[[4740  289]\n",
      " [  29 4923]]\n"
     ]
    },
    {
     "data": {
      "image/png": "[encoded data removed]",
      "text/plain": [
       "<Figure size 640x480 with 2 Axes>"
      ]
     },
     "metadata": {},
     "output_type": "display_data"
    }
   ],
   "source": [
    "test_nn(n, X_test_embedded, gold_labels_test)"
   ]
  },
  {
   "cell_type": "code",
   "execution_count": null,
   "id": "906ba760-852a-40ae-b62b-97f325c27ad1",
   "metadata": {},
   "outputs": [],
   "source": []
  }
 ],
 "metadata": {
  "kernelspec": {
   "display_name": "Python 3 (ipykernel)",
   "language": "python",
   "name": "python3"
  },
  "language_info": {
   "codemirror_mode": {
    "name": "ipython",
    "version": 3
   },
   "file_extension": ".py",
   "mimetype": "text/x-python",
   "name": "python",
   "nbconvert_exporter": "python",
   "pygments_lexer": "ipython3",
   "version": "3.11.5"
  }
 },
 "nbformat": 4,
 "nbformat_minor": 5
}
